{
  "nbformat": 4,
  "nbformat_minor": 0,
  "metadata": {
    "colab": {
      "provenance": [],
      "include_colab_link": true
    },
    "kernelspec": {
      "name": "python3",
      "display_name": "Python 3"
    },
    "language_info": {
      "name": "python"
    }
  },
  "cells": [
    {
      "cell_type": "markdown",
      "metadata": {
        "id": "view-in-github",
        "colab_type": "text"
      },
      "source": [
        "<a href=\"https://colab.research.google.com/github/OmarK920/DataEngineerinM2/blob/main/commit3.ipynb\" target=\"_parent\"><img src=\"https://colab.research.google.com/assets/colab-badge.svg\" alt=\"Open In Colab\"/></a>"
      ]
    },
    {
      "cell_type": "markdown",
      "source": [
        "**Imports**"
      ],
      "metadata": {
        "id": "sg6kySE4h7nx"
      }
    },
    {
      "cell_type": "code",
      "source": [
        "import datetime, warnings, scipy \n",
        "import pandas as pd\n",
        "import numpy as np\n",
        "import seaborn as sns\n",
        "import matplotlib as mpl\n",
        "import matplotlib.pyplot as plt\n",
        "import matplotlib.patches as patches"
      ],
      "metadata": {
        "id": "PwcLBIVIh5Hl"
      },
      "execution_count": 8,
      "outputs": []
    },
    {
      "cell_type": "markdown",
      "source": [
        "**Reading Datasets**"
      ],
      "metadata": {
        "id": "RRhoG8TciAo4"
      }
    },
    {
      "cell_type": "code",
      "source": [
        "from google.colab import drive\n",
        "drive.mount('/content/drive')"
      ],
      "metadata": {
        "colab": {
          "base_uri": "https://localhost:8080/"
        },
        "id": "_Qx246CPYVWQ",
        "outputId": "15c7a2bf-e243-42fe-c9b2-f7a2696f0805"
      },
      "execution_count": 9,
      "outputs": [
        {
          "output_type": "stream",
          "name": "stdout",
          "text": [
            "Drive already mounted at /content/drive; to attempt to forcibly remount, call drive.mount(\"/content/drive\", force_remount=True).\n"
          ]
        }
      ]
    },
    {
      "cell_type": "code",
      "source": [
        "import pandas as pd\n",
        "df_flights = pd.read_csv('/content/drive/MyDrive/flights.csv')\n"
      ],
      "metadata": {
        "id": "L52jsbuhZUcU"
      },
      "execution_count": 10,
      "outputs": []
    },
    {
      "cell_type": "code",
      "source": [
        "df_airports = pd.read_csv('/content/drive/MyDrive/airports.csv')\n"
      ],
      "metadata": {
        "id": "0tJda7r9aOj2"
      },
      "execution_count": 11,
      "outputs": []
    },
    {
      "cell_type": "code",
      "source": [
        "df_airlines = pd.read_csv('/content/drive/MyDrive/airlines.csv')\n"
      ],
      "metadata": {
        "id": "LS1FWYlraOtp"
      },
      "execution_count": 12,
      "outputs": []
    },
    {
      "cell_type": "code",
      "source": [
        "df_airlines.head()"
      ],
      "metadata": {
        "colab": {
          "base_uri": "https://localhost:8080/",
          "height": 206
        },
        "id": "egoaKJIHajvC",
        "outputId": "4c3aac5c-ad64-437e-a1a6-5dffb2979970"
      },
      "execution_count": 13,
      "outputs": [
        {
          "output_type": "execute_result",
          "data": {
            "text/plain": [
              "  IATA_CODE                 AIRLINE\n",
              "0        UA   United Air Lines Inc.\n",
              "1        AA  American Airlines Inc.\n",
              "2        US         US Airways Inc.\n",
              "3        F9  Frontier Airlines Inc.\n",
              "4        B6         JetBlue Airways"
            ],
            "text/html": [
              "\n",
              "  <div id=\"df-96f14eb4-224a-488c-a6ab-908e448d433e\">\n",
              "    <div class=\"colab-df-container\">\n",
              "      <div>\n",
              "<style scoped>\n",
              "    .dataframe tbody tr th:only-of-type {\n",
              "        vertical-align: middle;\n",
              "    }\n",
              "\n",
              "    .dataframe tbody tr th {\n",
              "        vertical-align: top;\n",
              "    }\n",
              "\n",
              "    .dataframe thead th {\n",
              "        text-align: right;\n",
              "    }\n",
              "</style>\n",
              "<table border=\"1\" class=\"dataframe\">\n",
              "  <thead>\n",
              "    <tr style=\"text-align: right;\">\n",
              "      <th></th>\n",
              "      <th>IATA_CODE</th>\n",
              "      <th>AIRLINE</th>\n",
              "    </tr>\n",
              "  </thead>\n",
              "  <tbody>\n",
              "    <tr>\n",
              "      <th>0</th>\n",
              "      <td>UA</td>\n",
              "      <td>United Air Lines Inc.</td>\n",
              "    </tr>\n",
              "    <tr>\n",
              "      <th>1</th>\n",
              "      <td>AA</td>\n",
              "      <td>American Airlines Inc.</td>\n",
              "    </tr>\n",
              "    <tr>\n",
              "      <th>2</th>\n",
              "      <td>US</td>\n",
              "      <td>US Airways Inc.</td>\n",
              "    </tr>\n",
              "    <tr>\n",
              "      <th>3</th>\n",
              "      <td>F9</td>\n",
              "      <td>Frontier Airlines Inc.</td>\n",
              "    </tr>\n",
              "    <tr>\n",
              "      <th>4</th>\n",
              "      <td>B6</td>\n",
              "      <td>JetBlue Airways</td>\n",
              "    </tr>\n",
              "  </tbody>\n",
              "</table>\n",
              "</div>\n",
              "      <button class=\"colab-df-convert\" onclick=\"convertToInteractive('df-96f14eb4-224a-488c-a6ab-908e448d433e')\"\n",
              "              title=\"Convert this dataframe to an interactive table.\"\n",
              "              style=\"display:none;\">\n",
              "        \n",
              "  <svg xmlns=\"http://www.w3.org/2000/svg\" height=\"24px\"viewBox=\"0 0 24 24\"\n",
              "       width=\"24px\">\n",
              "    <path d=\"M0 0h24v24H0V0z\" fill=\"none\"/>\n",
              "    <path d=\"M18.56 5.44l.94 2.06.94-2.06 2.06-.94-2.06-.94-.94-2.06-.94 2.06-2.06.94zm-11 1L8.5 8.5l.94-2.06 2.06-.94-2.06-.94L8.5 2.5l-.94 2.06-2.06.94zm10 10l.94 2.06.94-2.06 2.06-.94-2.06-.94-.94-2.06-.94 2.06-2.06.94z\"/><path d=\"M17.41 7.96l-1.37-1.37c-.4-.4-.92-.59-1.43-.59-.52 0-1.04.2-1.43.59L10.3 9.45l-7.72 7.72c-.78.78-.78 2.05 0 2.83L4 21.41c.39.39.9.59 1.41.59.51 0 1.02-.2 1.41-.59l7.78-7.78 2.81-2.81c.8-.78.8-2.07 0-2.86zM5.41 20L4 18.59l7.72-7.72 1.47 1.35L5.41 20z\"/>\n",
              "  </svg>\n",
              "      </button>\n",
              "      \n",
              "  <style>\n",
              "    .colab-df-container {\n",
              "      display:flex;\n",
              "      flex-wrap:wrap;\n",
              "      gap: 12px;\n",
              "    }\n",
              "\n",
              "    .colab-df-convert {\n",
              "      background-color: #E8F0FE;\n",
              "      border: none;\n",
              "      border-radius: 50%;\n",
              "      cursor: pointer;\n",
              "      display: none;\n",
              "      fill: #1967D2;\n",
              "      height: 32px;\n",
              "      padding: 0 0 0 0;\n",
              "      width: 32px;\n",
              "    }\n",
              "\n",
              "    .colab-df-convert:hover {\n",
              "      background-color: #E2EBFA;\n",
              "      box-shadow: 0px 1px 2px rgba(60, 64, 67, 0.3), 0px 1px 3px 1px rgba(60, 64, 67, 0.15);\n",
              "      fill: #174EA6;\n",
              "    }\n",
              "\n",
              "    [theme=dark] .colab-df-convert {\n",
              "      background-color: #3B4455;\n",
              "      fill: #D2E3FC;\n",
              "    }\n",
              "\n",
              "    [theme=dark] .colab-df-convert:hover {\n",
              "      background-color: #434B5C;\n",
              "      box-shadow: 0px 1px 3px 1px rgba(0, 0, 0, 0.15);\n",
              "      filter: drop-shadow(0px 1px 2px rgba(0, 0, 0, 0.3));\n",
              "      fill: #FFFFFF;\n",
              "    }\n",
              "  </style>\n",
              "\n",
              "      <script>\n",
              "        const buttonEl =\n",
              "          document.querySelector('#df-96f14eb4-224a-488c-a6ab-908e448d433e button.colab-df-convert');\n",
              "        buttonEl.style.display =\n",
              "          google.colab.kernel.accessAllowed ? 'block' : 'none';\n",
              "\n",
              "        async function convertToInteractive(key) {\n",
              "          const element = document.querySelector('#df-96f14eb4-224a-488c-a6ab-908e448d433e');\n",
              "          const dataTable =\n",
              "            await google.colab.kernel.invokeFunction('convertToInteractive',\n",
              "                                                     [key], {});\n",
              "          if (!dataTable) return;\n",
              "\n",
              "          const docLinkHtml = 'Like what you see? Visit the ' +\n",
              "            '<a target=\"_blank\" href=https://colab.research.google.com/notebooks/data_table.ipynb>data table notebook</a>'\n",
              "            + ' to learn more about interactive tables.';\n",
              "          element.innerHTML = '';\n",
              "          dataTable['output_type'] = 'display_data';\n",
              "          await google.colab.output.renderOutput(dataTable, element);\n",
              "          const docLink = document.createElement('div');\n",
              "          docLink.innerHTML = docLinkHtml;\n",
              "          element.appendChild(docLink);\n",
              "        }\n",
              "      </script>\n",
              "    </div>\n",
              "  </div>\n",
              "  "
            ]
          },
          "metadata": {},
          "execution_count": 13
        }
      ]
    },
    {
      "cell_type": "code",
      "source": [
        "df_flights.head()"
      ],
      "metadata": {
        "colab": {
          "base_uri": "https://localhost:8080/",
          "height": 299
        },
        "id": "1miv0oJY66Ev",
        "outputId": "43b68b8c-1903-4b50-d29b-4aaccd82aa03"
      },
      "execution_count": 14,
      "outputs": [
        {
          "output_type": "execute_result",
          "data": {
            "text/plain": [
              "   YEAR  MONTH  DAY  DAY_OF_WEEK AIRLINE  FLIGHT_NUMBER TAIL_NUMBER  \\\n",
              "0  2015      1    1            4      AS             98      N407AS   \n",
              "1  2015      1    1            4      AA           2336      N3KUAA   \n",
              "2  2015      1    1            4      US            840      N171US   \n",
              "3  2015      1    1            4      AA            258      N3HYAA   \n",
              "4  2015      1    1            4      AS            135      N527AS   \n",
              "\n",
              "  ORIGIN_AIRPORT DESTINATION_AIRPORT  SCHEDULED_DEPARTURE  ...  ARRIVAL_TIME  \\\n",
              "0            ANC                 SEA                    5  ...         408.0   \n",
              "1            LAX                 PBI                   10  ...         741.0   \n",
              "2            SFO                 CLT                   20  ...         811.0   \n",
              "3            LAX                 MIA                   20  ...         756.0   \n",
              "4            SEA                 ANC                   25  ...         259.0   \n",
              "\n",
              "   ARRIVAL_DELAY  DIVERTED  CANCELLED  CANCELLATION_REASON  AIR_SYSTEM_DELAY  \\\n",
              "0          -22.0         0          0                  NaN               NaN   \n",
              "1           -9.0         0          0                  NaN               NaN   \n",
              "2            5.0         0          0                  NaN               NaN   \n",
              "3           -9.0         0          0                  NaN               NaN   \n",
              "4          -21.0         0          0                  NaN               NaN   \n",
              "\n",
              "   SECURITY_DELAY  AIRLINE_DELAY  LATE_AIRCRAFT_DELAY  WEATHER_DELAY  \n",
              "0             NaN            NaN                  NaN            NaN  \n",
              "1             NaN            NaN                  NaN            NaN  \n",
              "2             NaN            NaN                  NaN            NaN  \n",
              "3             NaN            NaN                  NaN            NaN  \n",
              "4             NaN            NaN                  NaN            NaN  \n",
              "\n",
              "[5 rows x 31 columns]"
            ],
            "text/html": [
              "\n",
              "  <div id=\"df-80c54ad7-ada3-432e-802d-652ecd757879\">\n",
              "    <div class=\"colab-df-container\">\n",
              "      <div>\n",
              "<style scoped>\n",
              "    .dataframe tbody tr th:only-of-type {\n",
              "        vertical-align: middle;\n",
              "    }\n",
              "\n",
              "    .dataframe tbody tr th {\n",
              "        vertical-align: top;\n",
              "    }\n",
              "\n",
              "    .dataframe thead th {\n",
              "        text-align: right;\n",
              "    }\n",
              "</style>\n",
              "<table border=\"1\" class=\"dataframe\">\n",
              "  <thead>\n",
              "    <tr style=\"text-align: right;\">\n",
              "      <th></th>\n",
              "      <th>YEAR</th>\n",
              "      <th>MONTH</th>\n",
              "      <th>DAY</th>\n",
              "      <th>DAY_OF_WEEK</th>\n",
              "      <th>AIRLINE</th>\n",
              "      <th>FLIGHT_NUMBER</th>\n",
              "      <th>TAIL_NUMBER</th>\n",
              "      <th>ORIGIN_AIRPORT</th>\n",
              "      <th>DESTINATION_AIRPORT</th>\n",
              "      <th>SCHEDULED_DEPARTURE</th>\n",
              "      <th>...</th>\n",
              "      <th>ARRIVAL_TIME</th>\n",
              "      <th>ARRIVAL_DELAY</th>\n",
              "      <th>DIVERTED</th>\n",
              "      <th>CANCELLED</th>\n",
              "      <th>CANCELLATION_REASON</th>\n",
              "      <th>AIR_SYSTEM_DELAY</th>\n",
              "      <th>SECURITY_DELAY</th>\n",
              "      <th>AIRLINE_DELAY</th>\n",
              "      <th>LATE_AIRCRAFT_DELAY</th>\n",
              "      <th>WEATHER_DELAY</th>\n",
              "    </tr>\n",
              "  </thead>\n",
              "  <tbody>\n",
              "    <tr>\n",
              "      <th>0</th>\n",
              "      <td>2015</td>\n",
              "      <td>1</td>\n",
              "      <td>1</td>\n",
              "      <td>4</td>\n",
              "      <td>AS</td>\n",
              "      <td>98</td>\n",
              "      <td>N407AS</td>\n",
              "      <td>ANC</td>\n",
              "      <td>SEA</td>\n",
              "      <td>5</td>\n",
              "      <td>...</td>\n",
              "      <td>408.0</td>\n",
              "      <td>-22.0</td>\n",
              "      <td>0</td>\n",
              "      <td>0</td>\n",
              "      <td>NaN</td>\n",
              "      <td>NaN</td>\n",
              "      <td>NaN</td>\n",
              "      <td>NaN</td>\n",
              "      <td>NaN</td>\n",
              "      <td>NaN</td>\n",
              "    </tr>\n",
              "    <tr>\n",
              "      <th>1</th>\n",
              "      <td>2015</td>\n",
              "      <td>1</td>\n",
              "      <td>1</td>\n",
              "      <td>4</td>\n",
              "      <td>AA</td>\n",
              "      <td>2336</td>\n",
              "      <td>N3KUAA</td>\n",
              "      <td>LAX</td>\n",
              "      <td>PBI</td>\n",
              "      <td>10</td>\n",
              "      <td>...</td>\n",
              "      <td>741.0</td>\n",
              "      <td>-9.0</td>\n",
              "      <td>0</td>\n",
              "      <td>0</td>\n",
              "      <td>NaN</td>\n",
              "      <td>NaN</td>\n",
              "      <td>NaN</td>\n",
              "      <td>NaN</td>\n",
              "      <td>NaN</td>\n",
              "      <td>NaN</td>\n",
              "    </tr>\n",
              "    <tr>\n",
              "      <th>2</th>\n",
              "      <td>2015</td>\n",
              "      <td>1</td>\n",
              "      <td>1</td>\n",
              "      <td>4</td>\n",
              "      <td>US</td>\n",
              "      <td>840</td>\n",
              "      <td>N171US</td>\n",
              "      <td>SFO</td>\n",
              "      <td>CLT</td>\n",
              "      <td>20</td>\n",
              "      <td>...</td>\n",
              "      <td>811.0</td>\n",
              "      <td>5.0</td>\n",
              "      <td>0</td>\n",
              "      <td>0</td>\n",
              "      <td>NaN</td>\n",
              "      <td>NaN</td>\n",
              "      <td>NaN</td>\n",
              "      <td>NaN</td>\n",
              "      <td>NaN</td>\n",
              "      <td>NaN</td>\n",
              "    </tr>\n",
              "    <tr>\n",
              "      <th>3</th>\n",
              "      <td>2015</td>\n",
              "      <td>1</td>\n",
              "      <td>1</td>\n",
              "      <td>4</td>\n",
              "      <td>AA</td>\n",
              "      <td>258</td>\n",
              "      <td>N3HYAA</td>\n",
              "      <td>LAX</td>\n",
              "      <td>MIA</td>\n",
              "      <td>20</td>\n",
              "      <td>...</td>\n",
              "      <td>756.0</td>\n",
              "      <td>-9.0</td>\n",
              "      <td>0</td>\n",
              "      <td>0</td>\n",
              "      <td>NaN</td>\n",
              "      <td>NaN</td>\n",
              "      <td>NaN</td>\n",
              "      <td>NaN</td>\n",
              "      <td>NaN</td>\n",
              "      <td>NaN</td>\n",
              "    </tr>\n",
              "    <tr>\n",
              "      <th>4</th>\n",
              "      <td>2015</td>\n",
              "      <td>1</td>\n",
              "      <td>1</td>\n",
              "      <td>4</td>\n",
              "      <td>AS</td>\n",
              "      <td>135</td>\n",
              "      <td>N527AS</td>\n",
              "      <td>SEA</td>\n",
              "      <td>ANC</td>\n",
              "      <td>25</td>\n",
              "      <td>...</td>\n",
              "      <td>259.0</td>\n",
              "      <td>-21.0</td>\n",
              "      <td>0</td>\n",
              "      <td>0</td>\n",
              "      <td>NaN</td>\n",
              "      <td>NaN</td>\n",
              "      <td>NaN</td>\n",
              "      <td>NaN</td>\n",
              "      <td>NaN</td>\n",
              "      <td>NaN</td>\n",
              "    </tr>\n",
              "  </tbody>\n",
              "</table>\n",
              "<p>5 rows × 31 columns</p>\n",
              "</div>\n",
              "      <button class=\"colab-df-convert\" onclick=\"convertToInteractive('df-80c54ad7-ada3-432e-802d-652ecd757879')\"\n",
              "              title=\"Convert this dataframe to an interactive table.\"\n",
              "              style=\"display:none;\">\n",
              "        \n",
              "  <svg xmlns=\"http://www.w3.org/2000/svg\" height=\"24px\"viewBox=\"0 0 24 24\"\n",
              "       width=\"24px\">\n",
              "    <path d=\"M0 0h24v24H0V0z\" fill=\"none\"/>\n",
              "    <path d=\"M18.56 5.44l.94 2.06.94-2.06 2.06-.94-2.06-.94-.94-2.06-.94 2.06-2.06.94zm-11 1L8.5 8.5l.94-2.06 2.06-.94-2.06-.94L8.5 2.5l-.94 2.06-2.06.94zm10 10l.94 2.06.94-2.06 2.06-.94-2.06-.94-.94-2.06-.94 2.06-2.06.94z\"/><path d=\"M17.41 7.96l-1.37-1.37c-.4-.4-.92-.59-1.43-.59-.52 0-1.04.2-1.43.59L10.3 9.45l-7.72 7.72c-.78.78-.78 2.05 0 2.83L4 21.41c.39.39.9.59 1.41.59.51 0 1.02-.2 1.41-.59l7.78-7.78 2.81-2.81c.8-.78.8-2.07 0-2.86zM5.41 20L4 18.59l7.72-7.72 1.47 1.35L5.41 20z\"/>\n",
              "  </svg>\n",
              "      </button>\n",
              "      \n",
              "  <style>\n",
              "    .colab-df-container {\n",
              "      display:flex;\n",
              "      flex-wrap:wrap;\n",
              "      gap: 12px;\n",
              "    }\n",
              "\n",
              "    .colab-df-convert {\n",
              "      background-color: #E8F0FE;\n",
              "      border: none;\n",
              "      border-radius: 50%;\n",
              "      cursor: pointer;\n",
              "      display: none;\n",
              "      fill: #1967D2;\n",
              "      height: 32px;\n",
              "      padding: 0 0 0 0;\n",
              "      width: 32px;\n",
              "    }\n",
              "\n",
              "    .colab-df-convert:hover {\n",
              "      background-color: #E2EBFA;\n",
              "      box-shadow: 0px 1px 2px rgba(60, 64, 67, 0.3), 0px 1px 3px 1px rgba(60, 64, 67, 0.15);\n",
              "      fill: #174EA6;\n",
              "    }\n",
              "\n",
              "    [theme=dark] .colab-df-convert {\n",
              "      background-color: #3B4455;\n",
              "      fill: #D2E3FC;\n",
              "    }\n",
              "\n",
              "    [theme=dark] .colab-df-convert:hover {\n",
              "      background-color: #434B5C;\n",
              "      box-shadow: 0px 1px 3px 1px rgba(0, 0, 0, 0.15);\n",
              "      filter: drop-shadow(0px 1px 2px rgba(0, 0, 0, 0.3));\n",
              "      fill: #FFFFFF;\n",
              "    }\n",
              "  </style>\n",
              "\n",
              "      <script>\n",
              "        const buttonEl =\n",
              "          document.querySelector('#df-80c54ad7-ada3-432e-802d-652ecd757879 button.colab-df-convert');\n",
              "        buttonEl.style.display =\n",
              "          google.colab.kernel.accessAllowed ? 'block' : 'none';\n",
              "\n",
              "        async function convertToInteractive(key) {\n",
              "          const element = document.querySelector('#df-80c54ad7-ada3-432e-802d-652ecd757879');\n",
              "          const dataTable =\n",
              "            await google.colab.kernel.invokeFunction('convertToInteractive',\n",
              "                                                     [key], {});\n",
              "          if (!dataTable) return;\n",
              "\n",
              "          const docLinkHtml = 'Like what you see? Visit the ' +\n",
              "            '<a target=\"_blank\" href=https://colab.research.google.com/notebooks/data_table.ipynb>data table notebook</a>'\n",
              "            + ' to learn more about interactive tables.';\n",
              "          element.innerHTML = '';\n",
              "          dataTable['output_type'] = 'display_data';\n",
              "          await google.colab.output.renderOutput(dataTable, element);\n",
              "          const docLink = document.createElement('div');\n",
              "          docLink.innerHTML = docLinkHtml;\n",
              "          element.appendChild(docLink);\n",
              "        }\n",
              "      </script>\n",
              "    </div>\n",
              "  </div>\n",
              "  "
            ]
          },
          "metadata": {},
          "execution_count": 14
        }
      ]
    },
    {
      "cell_type": "code",
      "source": [
        "df_airports.head()"
      ],
      "metadata": {
        "colab": {
          "base_uri": "https://localhost:8080/",
          "height": 250
        },
        "id": "5QTe2xwr66O-",
        "outputId": "9d979944-2664-4ce6-92ae-a4287696ca4b"
      },
      "execution_count": 15,
      "outputs": [
        {
          "output_type": "execute_result",
          "data": {
            "text/plain": [
              "  IATA_CODE                              AIRPORT         CITY STATE COUNTRY  \\\n",
              "0       ABE  Lehigh Valley International Airport    Allentown    PA     USA   \n",
              "1       ABI             Abilene Regional Airport      Abilene    TX     USA   \n",
              "2       ABQ    Albuquerque International Sunport  Albuquerque    NM     USA   \n",
              "3       ABR            Aberdeen Regional Airport     Aberdeen    SD     USA   \n",
              "4       ABY   Southwest Georgia Regional Airport       Albany    GA     USA   \n",
              "\n",
              "   LATITUDE  LONGITUDE  \n",
              "0  40.65236  -75.44040  \n",
              "1  32.41132  -99.68190  \n",
              "2  35.04022 -106.60919  \n",
              "3  45.44906  -98.42183  \n",
              "4  31.53552  -84.19447  "
            ],
            "text/html": [
              "\n",
              "  <div id=\"df-695fd9eb-2022-4747-82fc-c42ec7eee9f3\">\n",
              "    <div class=\"colab-df-container\">\n",
              "      <div>\n",
              "<style scoped>\n",
              "    .dataframe tbody tr th:only-of-type {\n",
              "        vertical-align: middle;\n",
              "    }\n",
              "\n",
              "    .dataframe tbody tr th {\n",
              "        vertical-align: top;\n",
              "    }\n",
              "\n",
              "    .dataframe thead th {\n",
              "        text-align: right;\n",
              "    }\n",
              "</style>\n",
              "<table border=\"1\" class=\"dataframe\">\n",
              "  <thead>\n",
              "    <tr style=\"text-align: right;\">\n",
              "      <th></th>\n",
              "      <th>IATA_CODE</th>\n",
              "      <th>AIRPORT</th>\n",
              "      <th>CITY</th>\n",
              "      <th>STATE</th>\n",
              "      <th>COUNTRY</th>\n",
              "      <th>LATITUDE</th>\n",
              "      <th>LONGITUDE</th>\n",
              "    </tr>\n",
              "  </thead>\n",
              "  <tbody>\n",
              "    <tr>\n",
              "      <th>0</th>\n",
              "      <td>ABE</td>\n",
              "      <td>Lehigh Valley International Airport</td>\n",
              "      <td>Allentown</td>\n",
              "      <td>PA</td>\n",
              "      <td>USA</td>\n",
              "      <td>40.65236</td>\n",
              "      <td>-75.44040</td>\n",
              "    </tr>\n",
              "    <tr>\n",
              "      <th>1</th>\n",
              "      <td>ABI</td>\n",
              "      <td>Abilene Regional Airport</td>\n",
              "      <td>Abilene</td>\n",
              "      <td>TX</td>\n",
              "      <td>USA</td>\n",
              "      <td>32.41132</td>\n",
              "      <td>-99.68190</td>\n",
              "    </tr>\n",
              "    <tr>\n",
              "      <th>2</th>\n",
              "      <td>ABQ</td>\n",
              "      <td>Albuquerque International Sunport</td>\n",
              "      <td>Albuquerque</td>\n",
              "      <td>NM</td>\n",
              "      <td>USA</td>\n",
              "      <td>35.04022</td>\n",
              "      <td>-106.60919</td>\n",
              "    </tr>\n",
              "    <tr>\n",
              "      <th>3</th>\n",
              "      <td>ABR</td>\n",
              "      <td>Aberdeen Regional Airport</td>\n",
              "      <td>Aberdeen</td>\n",
              "      <td>SD</td>\n",
              "      <td>USA</td>\n",
              "      <td>45.44906</td>\n",
              "      <td>-98.42183</td>\n",
              "    </tr>\n",
              "    <tr>\n",
              "      <th>4</th>\n",
              "      <td>ABY</td>\n",
              "      <td>Southwest Georgia Regional Airport</td>\n",
              "      <td>Albany</td>\n",
              "      <td>GA</td>\n",
              "      <td>USA</td>\n",
              "      <td>31.53552</td>\n",
              "      <td>-84.19447</td>\n",
              "    </tr>\n",
              "  </tbody>\n",
              "</table>\n",
              "</div>\n",
              "      <button class=\"colab-df-convert\" onclick=\"convertToInteractive('df-695fd9eb-2022-4747-82fc-c42ec7eee9f3')\"\n",
              "              title=\"Convert this dataframe to an interactive table.\"\n",
              "              style=\"display:none;\">\n",
              "        \n",
              "  <svg xmlns=\"http://www.w3.org/2000/svg\" height=\"24px\"viewBox=\"0 0 24 24\"\n",
              "       width=\"24px\">\n",
              "    <path d=\"M0 0h24v24H0V0z\" fill=\"none\"/>\n",
              "    <path d=\"M18.56 5.44l.94 2.06.94-2.06 2.06-.94-2.06-.94-.94-2.06-.94 2.06-2.06.94zm-11 1L8.5 8.5l.94-2.06 2.06-.94-2.06-.94L8.5 2.5l-.94 2.06-2.06.94zm10 10l.94 2.06.94-2.06 2.06-.94-2.06-.94-.94-2.06-.94 2.06-2.06.94z\"/><path d=\"M17.41 7.96l-1.37-1.37c-.4-.4-.92-.59-1.43-.59-.52 0-1.04.2-1.43.59L10.3 9.45l-7.72 7.72c-.78.78-.78 2.05 0 2.83L4 21.41c.39.39.9.59 1.41.59.51 0 1.02-.2 1.41-.59l7.78-7.78 2.81-2.81c.8-.78.8-2.07 0-2.86zM5.41 20L4 18.59l7.72-7.72 1.47 1.35L5.41 20z\"/>\n",
              "  </svg>\n",
              "      </button>\n",
              "      \n",
              "  <style>\n",
              "    .colab-df-container {\n",
              "      display:flex;\n",
              "      flex-wrap:wrap;\n",
              "      gap: 12px;\n",
              "    }\n",
              "\n",
              "    .colab-df-convert {\n",
              "      background-color: #E8F0FE;\n",
              "      border: none;\n",
              "      border-radius: 50%;\n",
              "      cursor: pointer;\n",
              "      display: none;\n",
              "      fill: #1967D2;\n",
              "      height: 32px;\n",
              "      padding: 0 0 0 0;\n",
              "      width: 32px;\n",
              "    }\n",
              "\n",
              "    .colab-df-convert:hover {\n",
              "      background-color: #E2EBFA;\n",
              "      box-shadow: 0px 1px 2px rgba(60, 64, 67, 0.3), 0px 1px 3px 1px rgba(60, 64, 67, 0.15);\n",
              "      fill: #174EA6;\n",
              "    }\n",
              "\n",
              "    [theme=dark] .colab-df-convert {\n",
              "      background-color: #3B4455;\n",
              "      fill: #D2E3FC;\n",
              "    }\n",
              "\n",
              "    [theme=dark] .colab-df-convert:hover {\n",
              "      background-color: #434B5C;\n",
              "      box-shadow: 0px 1px 3px 1px rgba(0, 0, 0, 0.15);\n",
              "      filter: drop-shadow(0px 1px 2px rgba(0, 0, 0, 0.3));\n",
              "      fill: #FFFFFF;\n",
              "    }\n",
              "  </style>\n",
              "\n",
              "      <script>\n",
              "        const buttonEl =\n",
              "          document.querySelector('#df-695fd9eb-2022-4747-82fc-c42ec7eee9f3 button.colab-df-convert');\n",
              "        buttonEl.style.display =\n",
              "          google.colab.kernel.accessAllowed ? 'block' : 'none';\n",
              "\n",
              "        async function convertToInteractive(key) {\n",
              "          const element = document.querySelector('#df-695fd9eb-2022-4747-82fc-c42ec7eee9f3');\n",
              "          const dataTable =\n",
              "            await google.colab.kernel.invokeFunction('convertToInteractive',\n",
              "                                                     [key], {});\n",
              "          if (!dataTable) return;\n",
              "\n",
              "          const docLinkHtml = 'Like what you see? Visit the ' +\n",
              "            '<a target=\"_blank\" href=https://colab.research.google.com/notebooks/data_table.ipynb>data table notebook</a>'\n",
              "            + ' to learn more about interactive tables.';\n",
              "          element.innerHTML = '';\n",
              "          dataTable['output_type'] = 'display_data';\n",
              "          await google.colab.output.renderOutput(dataTable, element);\n",
              "          const docLink = document.createElement('div');\n",
              "          docLink.innerHTML = docLinkHtml;\n",
              "          element.appendChild(docLink);\n",
              "        }\n",
              "      </script>\n",
              "    </div>\n",
              "  </div>\n",
              "  "
            ]
          },
          "metadata": {},
          "execution_count": 15
        }
      ]
    },
    {
      "cell_type": "code",
      "source": [
        "#################################################################"
      ],
      "metadata": {
        "id": "7Lucp8uG7DyG"
      },
      "execution_count": 16,
      "outputs": []
    },
    {
      "cell_type": "markdown",
      "source": [
        "**Data Integration**"
      ],
      "metadata": {
        "id": "gQDcMLUfcQWF"
      }
    },
    {
      "cell_type": "code",
      "source": [
        "#merge to df_airlines,df_flights datasets\n",
        "df_demo3 = pd.merge(df_airlines,df_flights, left_on=\"IATA_CODE\", right_on=\"AIRLINE\")"
      ],
      "metadata": {
        "id": "-l8MwrGg0lrK"
      },
      "execution_count": 17,
      "outputs": []
    },
    {
      "cell_type": "code",
      "source": [
        "df_demo3.head(2)"
      ],
      "metadata": {
        "colab": {
          "base_uri": "https://localhost:8080/",
          "height": 240
        },
        "id": "EH8KqG430-ck",
        "outputId": "57b38dd1-7901-4f9e-dced-65cec9153148"
      },
      "execution_count": 18,
      "outputs": [
        {
          "output_type": "execute_result",
          "data": {
            "text/plain": [
              "  IATA_CODE              AIRLINE_x  YEAR  MONTH  DAY  DAY_OF_WEEK AIRLINE_y  \\\n",
              "0        UA  United Air Lines Inc.  2015      1    1            4        UA   \n",
              "1        UA  United Air Lines Inc.  2015      1    1            4        UA   \n",
              "\n",
              "   FLIGHT_NUMBER TAIL_NUMBER ORIGIN_AIRPORT  ... ARRIVAL_TIME  ARRIVAL_DELAY  \\\n",
              "0           1197      N78448            SFO  ...        619.0           -7.0   \n",
              "1           1545      N76517            LAX  ...        607.0          -11.0   \n",
              "\n",
              "   DIVERTED  CANCELLED  CANCELLATION_REASON  AIR_SYSTEM_DELAY  SECURITY_DELAY  \\\n",
              "0         0          0                  NaN               NaN             NaN   \n",
              "1         0          0                  NaN               NaN             NaN   \n",
              "\n",
              "   AIRLINE_DELAY  LATE_AIRCRAFT_DELAY  WEATHER_DELAY  \n",
              "0            NaN                  NaN            NaN  \n",
              "1            NaN                  NaN            NaN  \n",
              "\n",
              "[2 rows x 33 columns]"
            ],
            "text/html": [
              "\n",
              "  <div id=\"df-051424b7-dcd9-49c5-9d86-18a643ba3732\">\n",
              "    <div class=\"colab-df-container\">\n",
              "      <div>\n",
              "<style scoped>\n",
              "    .dataframe tbody tr th:only-of-type {\n",
              "        vertical-align: middle;\n",
              "    }\n",
              "\n",
              "    .dataframe tbody tr th {\n",
              "        vertical-align: top;\n",
              "    }\n",
              "\n",
              "    .dataframe thead th {\n",
              "        text-align: right;\n",
              "    }\n",
              "</style>\n",
              "<table border=\"1\" class=\"dataframe\">\n",
              "  <thead>\n",
              "    <tr style=\"text-align: right;\">\n",
              "      <th></th>\n",
              "      <th>IATA_CODE</th>\n",
              "      <th>AIRLINE_x</th>\n",
              "      <th>YEAR</th>\n",
              "      <th>MONTH</th>\n",
              "      <th>DAY</th>\n",
              "      <th>DAY_OF_WEEK</th>\n",
              "      <th>AIRLINE_y</th>\n",
              "      <th>FLIGHT_NUMBER</th>\n",
              "      <th>TAIL_NUMBER</th>\n",
              "      <th>ORIGIN_AIRPORT</th>\n",
              "      <th>...</th>\n",
              "      <th>ARRIVAL_TIME</th>\n",
              "      <th>ARRIVAL_DELAY</th>\n",
              "      <th>DIVERTED</th>\n",
              "      <th>CANCELLED</th>\n",
              "      <th>CANCELLATION_REASON</th>\n",
              "      <th>AIR_SYSTEM_DELAY</th>\n",
              "      <th>SECURITY_DELAY</th>\n",
              "      <th>AIRLINE_DELAY</th>\n",
              "      <th>LATE_AIRCRAFT_DELAY</th>\n",
              "      <th>WEATHER_DELAY</th>\n",
              "    </tr>\n",
              "  </thead>\n",
              "  <tbody>\n",
              "    <tr>\n",
              "      <th>0</th>\n",
              "      <td>UA</td>\n",
              "      <td>United Air Lines Inc.</td>\n",
              "      <td>2015</td>\n",
              "      <td>1</td>\n",
              "      <td>1</td>\n",
              "      <td>4</td>\n",
              "      <td>UA</td>\n",
              "      <td>1197</td>\n",
              "      <td>N78448</td>\n",
              "      <td>SFO</td>\n",
              "      <td>...</td>\n",
              "      <td>619.0</td>\n",
              "      <td>-7.0</td>\n",
              "      <td>0</td>\n",
              "      <td>0</td>\n",
              "      <td>NaN</td>\n",
              "      <td>NaN</td>\n",
              "      <td>NaN</td>\n",
              "      <td>NaN</td>\n",
              "      <td>NaN</td>\n",
              "      <td>NaN</td>\n",
              "    </tr>\n",
              "    <tr>\n",
              "      <th>1</th>\n",
              "      <td>UA</td>\n",
              "      <td>United Air Lines Inc.</td>\n",
              "      <td>2015</td>\n",
              "      <td>1</td>\n",
              "      <td>1</td>\n",
              "      <td>4</td>\n",
              "      <td>UA</td>\n",
              "      <td>1545</td>\n",
              "      <td>N76517</td>\n",
              "      <td>LAX</td>\n",
              "      <td>...</td>\n",
              "      <td>607.0</td>\n",
              "      <td>-11.0</td>\n",
              "      <td>0</td>\n",
              "      <td>0</td>\n",
              "      <td>NaN</td>\n",
              "      <td>NaN</td>\n",
              "      <td>NaN</td>\n",
              "      <td>NaN</td>\n",
              "      <td>NaN</td>\n",
              "      <td>NaN</td>\n",
              "    </tr>\n",
              "  </tbody>\n",
              "</table>\n",
              "<p>2 rows × 33 columns</p>\n",
              "</div>\n",
              "      <button class=\"colab-df-convert\" onclick=\"convertToInteractive('df-051424b7-dcd9-49c5-9d86-18a643ba3732')\"\n",
              "              title=\"Convert this dataframe to an interactive table.\"\n",
              "              style=\"display:none;\">\n",
              "        \n",
              "  <svg xmlns=\"http://www.w3.org/2000/svg\" height=\"24px\"viewBox=\"0 0 24 24\"\n",
              "       width=\"24px\">\n",
              "    <path d=\"M0 0h24v24H0V0z\" fill=\"none\"/>\n",
              "    <path d=\"M18.56 5.44l.94 2.06.94-2.06 2.06-.94-2.06-.94-.94-2.06-.94 2.06-2.06.94zm-11 1L8.5 8.5l.94-2.06 2.06-.94-2.06-.94L8.5 2.5l-.94 2.06-2.06.94zm10 10l.94 2.06.94-2.06 2.06-.94-2.06-.94-.94-2.06-.94 2.06-2.06.94z\"/><path d=\"M17.41 7.96l-1.37-1.37c-.4-.4-.92-.59-1.43-.59-.52 0-1.04.2-1.43.59L10.3 9.45l-7.72 7.72c-.78.78-.78 2.05 0 2.83L4 21.41c.39.39.9.59 1.41.59.51 0 1.02-.2 1.41-.59l7.78-7.78 2.81-2.81c.8-.78.8-2.07 0-2.86zM5.41 20L4 18.59l7.72-7.72 1.47 1.35L5.41 20z\"/>\n",
              "  </svg>\n",
              "      </button>\n",
              "      \n",
              "  <style>\n",
              "    .colab-df-container {\n",
              "      display:flex;\n",
              "      flex-wrap:wrap;\n",
              "      gap: 12px;\n",
              "    }\n",
              "\n",
              "    .colab-df-convert {\n",
              "      background-color: #E8F0FE;\n",
              "      border: none;\n",
              "      border-radius: 50%;\n",
              "      cursor: pointer;\n",
              "      display: none;\n",
              "      fill: #1967D2;\n",
              "      height: 32px;\n",
              "      padding: 0 0 0 0;\n",
              "      width: 32px;\n",
              "    }\n",
              "\n",
              "    .colab-df-convert:hover {\n",
              "      background-color: #E2EBFA;\n",
              "      box-shadow: 0px 1px 2px rgba(60, 64, 67, 0.3), 0px 1px 3px 1px rgba(60, 64, 67, 0.15);\n",
              "      fill: #174EA6;\n",
              "    }\n",
              "\n",
              "    [theme=dark] .colab-df-convert {\n",
              "      background-color: #3B4455;\n",
              "      fill: #D2E3FC;\n",
              "    }\n",
              "\n",
              "    [theme=dark] .colab-df-convert:hover {\n",
              "      background-color: #434B5C;\n",
              "      box-shadow: 0px 1px 3px 1px rgba(0, 0, 0, 0.15);\n",
              "      filter: drop-shadow(0px 1px 2px rgba(0, 0, 0, 0.3));\n",
              "      fill: #FFFFFF;\n",
              "    }\n",
              "  </style>\n",
              "\n",
              "      <script>\n",
              "        const buttonEl =\n",
              "          document.querySelector('#df-051424b7-dcd9-49c5-9d86-18a643ba3732 button.colab-df-convert');\n",
              "        buttonEl.style.display =\n",
              "          google.colab.kernel.accessAllowed ? 'block' : 'none';\n",
              "\n",
              "        async function convertToInteractive(key) {\n",
              "          const element = document.querySelector('#df-051424b7-dcd9-49c5-9d86-18a643ba3732');\n",
              "          const dataTable =\n",
              "            await google.colab.kernel.invokeFunction('convertToInteractive',\n",
              "                                                     [key], {});\n",
              "          if (!dataTable) return;\n",
              "\n",
              "          const docLinkHtml = 'Like what you see? Visit the ' +\n",
              "            '<a target=\"_blank\" href=https://colab.research.google.com/notebooks/data_table.ipynb>data table notebook</a>'\n",
              "            + ' to learn more about interactive tables.';\n",
              "          element.innerHTML = '';\n",
              "          dataTable['output_type'] = 'display_data';\n",
              "          await google.colab.output.renderOutput(dataTable, element);\n",
              "          const docLink = document.createElement('div');\n",
              "          docLink.innerHTML = docLinkHtml;\n",
              "          element.appendChild(docLink);\n",
              "        }\n",
              "      </script>\n",
              "    </div>\n",
              "  </div>\n",
              "  "
            ]
          },
          "metadata": {},
          "execution_count": 18
        }
      ]
    },
    {
      "cell_type": "code",
      "source": [
        "df_demo3.columns"
      ],
      "metadata": {
        "colab": {
          "base_uri": "https://localhost:8080/"
        },
        "id": "zc30PiEc3K51",
        "outputId": "91e782f7-858b-4eb4-9550-a481b8688093"
      },
      "execution_count": 19,
      "outputs": [
        {
          "output_type": "execute_result",
          "data": {
            "text/plain": [
              "Index(['IATA_CODE', 'AIRLINE_x', 'YEAR', 'MONTH', 'DAY', 'DAY_OF_WEEK',\n",
              "       'AIRLINE_y', 'FLIGHT_NUMBER', 'TAIL_NUMBER', 'ORIGIN_AIRPORT',\n",
              "       'DESTINATION_AIRPORT', 'SCHEDULED_DEPARTURE', 'DEPARTURE_TIME',\n",
              "       'DEPARTURE_DELAY', 'TAXI_OUT', 'WHEELS_OFF', 'SCHEDULED_TIME',\n",
              "       'ELAPSED_TIME', 'AIR_TIME', 'DISTANCE', 'WHEELS_ON', 'TAXI_IN',\n",
              "       'SCHEDULED_ARRIVAL', 'ARRIVAL_TIME', 'ARRIVAL_DELAY', 'DIVERTED',\n",
              "       'CANCELLED', 'CANCELLATION_REASON', 'AIR_SYSTEM_DELAY',\n",
              "       'SECURITY_DELAY', 'AIRLINE_DELAY', 'LATE_AIRCRAFT_DELAY',\n",
              "       'WEATHER_DELAY'],\n",
              "      dtype='object')"
            ]
          },
          "metadata": {},
          "execution_count": 19
        }
      ]
    },
    {
      "cell_type": "code",
      "source": [
        "#\n",
        "main_df = pd.merge(df_airports, df_demo3, left_on=\"IATA_CODE\", right_on=\"DESTINATION_AIRPORT\")"
      ],
      "metadata": {
        "id": "UKmErwLE84cn"
      },
      "execution_count": 20,
      "outputs": []
    },
    {
      "cell_type": "code",
      "source": [
        "main_df.head(2)"
      ],
      "metadata": {
        "colab": {
          "base_uri": "https://localhost:8080/",
          "height": 309
        },
        "id": "nU0beF4V9v_q",
        "outputId": "c716890f-6308-401c-a0ba-5c546b9a2269"
      },
      "execution_count": 21,
      "outputs": [
        {
          "output_type": "execute_result",
          "data": {
            "text/plain": [
              "  IATA_CODE_x                              AIRPORT       CITY STATE COUNTRY  \\\n",
              "0         ABE  Lehigh Valley International Airport  Allentown    PA     USA   \n",
              "1         ABE  Lehigh Valley International Airport  Allentown    PA     USA   \n",
              "\n",
              "   LATITUDE  LONGITUDE IATA_CODE_y              AIRLINE_x  YEAR  ...  \\\n",
              "0  40.65236   -75.4404          OO  Skywest Airlines Inc.  2015  ...   \n",
              "1  40.65236   -75.4404          OO  Skywest Airlines Inc.  2015  ...   \n",
              "\n",
              "   ARRIVAL_TIME  ARRIVAL_DELAY  DIVERTED CANCELLED  CANCELLATION_REASON  \\\n",
              "0        1612.0           51.0         0         0                  NaN   \n",
              "1        1532.0           11.0         0         0                  NaN   \n",
              "\n",
              "  AIR_SYSTEM_DELAY SECURITY_DELAY AIRLINE_DELAY  LATE_AIRCRAFT_DELAY  \\\n",
              "0              0.0            0.0          51.0                  0.0   \n",
              "1              NaN            NaN           NaN                  NaN   \n",
              "\n",
              "   WEATHER_DELAY  \n",
              "0            0.0  \n",
              "1            NaN  \n",
              "\n",
              "[2 rows x 40 columns]"
            ],
            "text/html": [
              "\n",
              "  <div id=\"df-9876cc3b-d36d-4468-a6dc-6ff514dd4d08\">\n",
              "    <div class=\"colab-df-container\">\n",
              "      <div>\n",
              "<style scoped>\n",
              "    .dataframe tbody tr th:only-of-type {\n",
              "        vertical-align: middle;\n",
              "    }\n",
              "\n",
              "    .dataframe tbody tr th {\n",
              "        vertical-align: top;\n",
              "    }\n",
              "\n",
              "    .dataframe thead th {\n",
              "        text-align: right;\n",
              "    }\n",
              "</style>\n",
              "<table border=\"1\" class=\"dataframe\">\n",
              "  <thead>\n",
              "    <tr style=\"text-align: right;\">\n",
              "      <th></th>\n",
              "      <th>IATA_CODE_x</th>\n",
              "      <th>AIRPORT</th>\n",
              "      <th>CITY</th>\n",
              "      <th>STATE</th>\n",
              "      <th>COUNTRY</th>\n",
              "      <th>LATITUDE</th>\n",
              "      <th>LONGITUDE</th>\n",
              "      <th>IATA_CODE_y</th>\n",
              "      <th>AIRLINE_x</th>\n",
              "      <th>YEAR</th>\n",
              "      <th>...</th>\n",
              "      <th>ARRIVAL_TIME</th>\n",
              "      <th>ARRIVAL_DELAY</th>\n",
              "      <th>DIVERTED</th>\n",
              "      <th>CANCELLED</th>\n",
              "      <th>CANCELLATION_REASON</th>\n",
              "      <th>AIR_SYSTEM_DELAY</th>\n",
              "      <th>SECURITY_DELAY</th>\n",
              "      <th>AIRLINE_DELAY</th>\n",
              "      <th>LATE_AIRCRAFT_DELAY</th>\n",
              "      <th>WEATHER_DELAY</th>\n",
              "    </tr>\n",
              "  </thead>\n",
              "  <tbody>\n",
              "    <tr>\n",
              "      <th>0</th>\n",
              "      <td>ABE</td>\n",
              "      <td>Lehigh Valley International Airport</td>\n",
              "      <td>Allentown</td>\n",
              "      <td>PA</td>\n",
              "      <td>USA</td>\n",
              "      <td>40.65236</td>\n",
              "      <td>-75.4404</td>\n",
              "      <td>OO</td>\n",
              "      <td>Skywest Airlines Inc.</td>\n",
              "      <td>2015</td>\n",
              "      <td>...</td>\n",
              "      <td>1612.0</td>\n",
              "      <td>51.0</td>\n",
              "      <td>0</td>\n",
              "      <td>0</td>\n",
              "      <td>NaN</td>\n",
              "      <td>0.0</td>\n",
              "      <td>0.0</td>\n",
              "      <td>51.0</td>\n",
              "      <td>0.0</td>\n",
              "      <td>0.0</td>\n",
              "    </tr>\n",
              "    <tr>\n",
              "      <th>1</th>\n",
              "      <td>ABE</td>\n",
              "      <td>Lehigh Valley International Airport</td>\n",
              "      <td>Allentown</td>\n",
              "      <td>PA</td>\n",
              "      <td>USA</td>\n",
              "      <td>40.65236</td>\n",
              "      <td>-75.4404</td>\n",
              "      <td>OO</td>\n",
              "      <td>Skywest Airlines Inc.</td>\n",
              "      <td>2015</td>\n",
              "      <td>...</td>\n",
              "      <td>1532.0</td>\n",
              "      <td>11.0</td>\n",
              "      <td>0</td>\n",
              "      <td>0</td>\n",
              "      <td>NaN</td>\n",
              "      <td>NaN</td>\n",
              "      <td>NaN</td>\n",
              "      <td>NaN</td>\n",
              "      <td>NaN</td>\n",
              "      <td>NaN</td>\n",
              "    </tr>\n",
              "  </tbody>\n",
              "</table>\n",
              "<p>2 rows × 40 columns</p>\n",
              "</div>\n",
              "      <button class=\"colab-df-convert\" onclick=\"convertToInteractive('df-9876cc3b-d36d-4468-a6dc-6ff514dd4d08')\"\n",
              "              title=\"Convert this dataframe to an interactive table.\"\n",
              "              style=\"display:none;\">\n",
              "        \n",
              "  <svg xmlns=\"http://www.w3.org/2000/svg\" height=\"24px\"viewBox=\"0 0 24 24\"\n",
              "       width=\"24px\">\n",
              "    <path d=\"M0 0h24v24H0V0z\" fill=\"none\"/>\n",
              "    <path d=\"M18.56 5.44l.94 2.06.94-2.06 2.06-.94-2.06-.94-.94-2.06-.94 2.06-2.06.94zm-11 1L8.5 8.5l.94-2.06 2.06-.94-2.06-.94L8.5 2.5l-.94 2.06-2.06.94zm10 10l.94 2.06.94-2.06 2.06-.94-2.06-.94-.94-2.06-.94 2.06-2.06.94z\"/><path d=\"M17.41 7.96l-1.37-1.37c-.4-.4-.92-.59-1.43-.59-.52 0-1.04.2-1.43.59L10.3 9.45l-7.72 7.72c-.78.78-.78 2.05 0 2.83L4 21.41c.39.39.9.59 1.41.59.51 0 1.02-.2 1.41-.59l7.78-7.78 2.81-2.81c.8-.78.8-2.07 0-2.86zM5.41 20L4 18.59l7.72-7.72 1.47 1.35L5.41 20z\"/>\n",
              "  </svg>\n",
              "      </button>\n",
              "      \n",
              "  <style>\n",
              "    .colab-df-container {\n",
              "      display:flex;\n",
              "      flex-wrap:wrap;\n",
              "      gap: 12px;\n",
              "    }\n",
              "\n",
              "    .colab-df-convert {\n",
              "      background-color: #E8F0FE;\n",
              "      border: none;\n",
              "      border-radius: 50%;\n",
              "      cursor: pointer;\n",
              "      display: none;\n",
              "      fill: #1967D2;\n",
              "      height: 32px;\n",
              "      padding: 0 0 0 0;\n",
              "      width: 32px;\n",
              "    }\n",
              "\n",
              "    .colab-df-convert:hover {\n",
              "      background-color: #E2EBFA;\n",
              "      box-shadow: 0px 1px 2px rgba(60, 64, 67, 0.3), 0px 1px 3px 1px rgba(60, 64, 67, 0.15);\n",
              "      fill: #174EA6;\n",
              "    }\n",
              "\n",
              "    [theme=dark] .colab-df-convert {\n",
              "      background-color: #3B4455;\n",
              "      fill: #D2E3FC;\n",
              "    }\n",
              "\n",
              "    [theme=dark] .colab-df-convert:hover {\n",
              "      background-color: #434B5C;\n",
              "      box-shadow: 0px 1px 3px 1px rgba(0, 0, 0, 0.15);\n",
              "      filter: drop-shadow(0px 1px 2px rgba(0, 0, 0, 0.3));\n",
              "      fill: #FFFFFF;\n",
              "    }\n",
              "  </style>\n",
              "\n",
              "      <script>\n",
              "        const buttonEl =\n",
              "          document.querySelector('#df-9876cc3b-d36d-4468-a6dc-6ff514dd4d08 button.colab-df-convert');\n",
              "        buttonEl.style.display =\n",
              "          google.colab.kernel.accessAllowed ? 'block' : 'none';\n",
              "\n",
              "        async function convertToInteractive(key) {\n",
              "          const element = document.querySelector('#df-9876cc3b-d36d-4468-a6dc-6ff514dd4d08');\n",
              "          const dataTable =\n",
              "            await google.colab.kernel.invokeFunction('convertToInteractive',\n",
              "                                                     [key], {});\n",
              "          if (!dataTable) return;\n",
              "\n",
              "          const docLinkHtml = 'Like what you see? Visit the ' +\n",
              "            '<a target=\"_blank\" href=https://colab.research.google.com/notebooks/data_table.ipynb>data table notebook</a>'\n",
              "            + ' to learn more about interactive tables.';\n",
              "          element.innerHTML = '';\n",
              "          dataTable['output_type'] = 'display_data';\n",
              "          await google.colab.output.renderOutput(dataTable, element);\n",
              "          const docLink = document.createElement('div');\n",
              "          docLink.innerHTML = docLinkHtml;\n",
              "          element.appendChild(docLink);\n",
              "        }\n",
              "      </script>\n",
              "    </div>\n",
              "  </div>\n",
              "  "
            ]
          },
          "metadata": {},
          "execution_count": 21
        }
      ]
    },
    {
      "cell_type": "markdown",
      "source": [
        "**Data Cleaning**"
      ],
      "metadata": {
        "id": "50aeCxKE_PVq"
      }
    },
    {
      "cell_type": "code",
      "source": [
        "main_df.isnull().sum() "
      ],
      "metadata": {
        "id": "pA_QEqNG_TIq",
        "colab": {
          "base_uri": "https://localhost:8080/"
        },
        "outputId": "05f8df51-96a6-4ff3-e03e-698e2cac491d"
      },
      "execution_count": 22,
      "outputs": [
        {
          "output_type": "execute_result",
          "data": {
            "text/plain": [
              "IATA_CODE_x                  0\n",
              "AIRPORT                      0\n",
              "CITY                         0\n",
              "STATE                        0\n",
              "COUNTRY                      0\n",
              "LATITUDE                  4610\n",
              "LONGITUDE                 4610\n",
              "IATA_CODE_y                  0\n",
              "AIRLINE_x                    0\n",
              "YEAR                         0\n",
              "MONTH                        0\n",
              "DAY                          0\n",
              "DAY_OF_WEEK                  0\n",
              "AIRLINE_y                    0\n",
              "FLIGHT_NUMBER                0\n",
              "TAIL_NUMBER              14367\n",
              "ORIGIN_AIRPORT               0\n",
              "DESTINATION_AIRPORT          0\n",
              "SCHEDULED_DEPARTURE          0\n",
              "DEPARTURE_TIME           83814\n",
              "DEPARTURE_DELAY          83814\n",
              "TAXI_OUT                 86612\n",
              "WHEELS_OFF               86612\n",
              "SCHEDULED_TIME               6\n",
              "ELAPSED_TIME            101784\n",
              "AIR_TIME                101784\n",
              "DISTANCE                     0\n",
              "WHEELS_ON                89942\n",
              "TAXI_IN                  89942\n",
              "SCHEDULED_ARRIVAL            0\n",
              "ARRIVAL_TIME             89942\n",
              "ARRIVAL_DELAY           101784\n",
              "DIVERTED                     0\n",
              "CANCELLED                    0\n",
              "CANCELLATION_REASON    5245484\n",
              "AIR_SYSTEM_DELAY       4329554\n",
              "SECURITY_DELAY         4329554\n",
              "AIRLINE_DELAY          4329554\n",
              "LATE_AIRCRAFT_DELAY    4329554\n",
              "WEATHER_DELAY          4329554\n",
              "dtype: int64"
            ]
          },
          "metadata": {},
          "execution_count": 22
        }
      ]
    },
    {
      "cell_type": "code",
      "source": [
        "#here we are going to drop unecessary columns and columns which have many missing values\n",
        "\n",
        "main_df.drop('TAIL_NUMBER' , axis = 1 , inplace = True)\n",
        "main_df.drop('DEPARTURE_TIME' , axis = 1 , inplace = True)\n",
        "main_df.drop('DEPARTURE_DELAY' , axis = 1 , inplace = True)\n",
        "main_df.drop('TAXI_OUT' , axis = 1 , inplace = True)\n",
        "main_df.drop('WHEELS_OFF' , axis = 1 , inplace = True)\n",
        "main_df.drop('ELAPSED_TIME' , axis = 1 , inplace = True)\n",
        "main_df.drop('AIR_TIME' , axis = 1 , inplace = True)\n",
        "main_df.drop('WHEELS_ON' , axis = 1 , inplace = True)\n",
        "main_df.drop('TAXI_IN' , axis = 1 , inplace = True)\n",
        "main_df.drop('ARRIVAL_TIME' , axis = 1 , inplace = True)\n",
        "main_df.drop('ARRIVAL_DELAY' , axis = 1 , inplace = True)\n",
        "main_df.drop('CANCELLATION_REASON' , axis = 1 , inplace = True)\n",
        "main_df.drop('AIR_SYSTEM_DELAY' , axis = 1 , inplace = True)\n",
        "main_df.drop('SECURITY_DELAY' , axis = 1 , inplace = True)\n",
        "main_df.drop('AIRLINE_DELAY' , axis = 1 , inplace = True)\n",
        "main_df.drop('LATE_AIRCRAFT_DELAY' , axis = 1 , inplace = True)\n",
        "main_df.drop('WEATHER_DELAY' , axis = 1 , inplace = True)\n",
        "\n"
      ],
      "metadata": {
        "id": "l7HceIyc_TWo"
      },
      "execution_count": 23,
      "outputs": []
    },
    {
      "cell_type": "code",
      "source": [
        "main_df.isnull().sum()"
      ],
      "metadata": {
        "colab": {
          "base_uri": "https://localhost:8080/"
        },
        "id": "DJ14aDD7_TZZ",
        "outputId": "29c37941-6837-4d0d-dbb7-1e2bba0dd3f4"
      },
      "execution_count": 24,
      "outputs": [
        {
          "output_type": "execute_result",
          "data": {
            "text/plain": [
              "IATA_CODE_x               0\n",
              "AIRPORT                   0\n",
              "CITY                      0\n",
              "STATE                     0\n",
              "COUNTRY                   0\n",
              "LATITUDE               4610\n",
              "LONGITUDE              4610\n",
              "IATA_CODE_y               0\n",
              "AIRLINE_x                 0\n",
              "YEAR                      0\n",
              "MONTH                     0\n",
              "DAY                       0\n",
              "DAY_OF_WEEK               0\n",
              "AIRLINE_y                 0\n",
              "FLIGHT_NUMBER             0\n",
              "ORIGIN_AIRPORT            0\n",
              "DESTINATION_AIRPORT       0\n",
              "SCHEDULED_DEPARTURE       0\n",
              "SCHEDULED_TIME            6\n",
              "DISTANCE                  0\n",
              "SCHEDULED_ARRIVAL         0\n",
              "DIVERTED                  0\n",
              "CANCELLED                 0\n",
              "dtype: int64"
            ]
          },
          "metadata": {},
          "execution_count": 24
        }
      ]
    },
    {
      "cell_type": "code",
      "source": [
        "#Detecting and Removing Outliers\n",
        "#box-plot before removing outliers\n",
        "sns.boxplot(x=main_df['LATITUDE'])"
      ],
      "metadata": {
        "id": "Kz17SlL4_Tb5",
        "colab": {
          "base_uri": "https://localhost:8080/",
          "height": 297
        },
        "outputId": "86accca5-b856-4943-da72-d5555b641fdb"
      },
      "execution_count": 25,
      "outputs": [
        {
          "output_type": "execute_result",
          "data": {
            "text/plain": [
              "<matplotlib.axes._subplots.AxesSubplot at 0x7feb7c5a9130>"
            ]
          },
          "metadata": {},
          "execution_count": 25
        },
        {
          "output_type": "display_data",
          "data": {
            "text/plain": [
              "<Figure size 432x288 with 1 Axes>"
            ],
            "image/png": "[encoded data removed]"
          },
          "metadata": {
            "needs_background": "light"
          }
        }
      ]
    },
    {
      "cell_type": "code",
      "source": [
        "Q1 = main_df['LATITUDE'].quantile(0.25)\n",
        "Q3 = main_df['LATITUDE'].quantile(0.75)\n",
        "IQR = Q3 - Q1\n",
        "print(IQR)"
      ],
      "metadata": {
        "colab": {
          "base_uri": "https://localhost:8080/"
        },
        "id": "pXpHeHdvTm2Q",
        "outputId": "a4f03a28-5e23-43a5-b157-7a23cbd39941"
      },
      "execution_count": 26,
      "outputs": [
        {
          "output_type": "stream",
          "name": "stdout",
          "text": [
            "7.892440000000001\n"
          ]
        }
      ]
    },
    {
      "cell_type": "code",
      "source": [
        "arr_1 = main_df['LATITUDE'] < (Q1 - 1.5 * IQR)\n",
        "arr_2 = main_df['LATITUDE'] > (Q3 + 1.5 * IQR)\n",
        "mask = (arr_1 | arr_2)"
      ],
      "metadata": {
        "id": "zuDjmm1rUsPA"
      },
      "execution_count": 27,
      "outputs": []
    },
    {
      "cell_type": "code",
      "source": [
        "print(\"No. of outliers: \", mask.sum())"
      ],
      "metadata": {
        "colab": {
          "base_uri": "https://localhost:8080/"
        },
        "id": "ZuVIKIQzVMzD",
        "outputId": "65d3cc8c-016c-41a3-e0da-15a821555ca1"
      },
      "execution_count": 28,
      "outputs": [
        {
          "output_type": "stream",
          "name": "stdout",
          "text": [
            "No. of outliers:  103151\n"
          ]
        }
      ]
    },
    {
      "cell_type": "code",
      "source": [
        "#Removing the outliers\n",
        "main_df = main_df[~(mask)]\n",
        "main_df.head()"
      ],
      "metadata": {
        "colab": {
          "base_uri": "https://localhost:8080/",
          "height": 560
        },
        "id": "ch73xspTVa7M",
        "outputId": "c837cd91-85d2-43c8-9e7e-1f881981206e"
      },
      "execution_count": 29,
      "outputs": [
        {
          "output_type": "execute_result",
          "data": {
            "text/plain": [
              "  IATA_CODE_x                              AIRPORT       CITY STATE COUNTRY  \\\n",
              "0         ABE  Lehigh Valley International Airport  Allentown    PA     USA   \n",
              "1         ABE  Lehigh Valley International Airport  Allentown    PA     USA   \n",
              "2         ABE  Lehigh Valley International Airport  Allentown    PA     USA   \n",
              "3         ABE  Lehigh Valley International Airport  Allentown    PA     USA   \n",
              "4         ABE  Lehigh Valley International Airport  Allentown    PA     USA   \n",
              "\n",
              "   LATITUDE  LONGITUDE IATA_CODE_y              AIRLINE_x  YEAR  ...  \\\n",
              "0  40.65236   -75.4404          OO  Skywest Airlines Inc.  2015  ...   \n",
              "1  40.65236   -75.4404          OO  Skywest Airlines Inc.  2015  ...   \n",
              "2  40.65236   -75.4404          OO  Skywest Airlines Inc.  2015  ...   \n",
              "3  40.65236   -75.4404          OO  Skywest Airlines Inc.  2015  ...   \n",
              "4  40.65236   -75.4404          OO  Skywest Airlines Inc.  2015  ...   \n",
              "\n",
              "   AIRLINE_y  FLIGHT_NUMBER  ORIGIN_AIRPORT DESTINATION_AIRPORT  \\\n",
              "0         OO           4507             DTW                 ABE   \n",
              "1         OO           4507             DTW                 ABE   \n",
              "2         OO           4507             DTW                 ABE   \n",
              "3         OO           4507             DTW                 ABE   \n",
              "4         OO           4507             DTW                 ABE   \n",
              "\n",
              "   SCHEDULED_DEPARTURE SCHEDULED_TIME DISTANCE  SCHEDULED_ARRIVAL  DIVERTED  \\\n",
              "0                 1355           86.0      425               1521         0   \n",
              "1                 1355           86.0      425               1521         0   \n",
              "2                 1355           86.0      425               1521         0   \n",
              "3                 1355           86.0      425               1521         0   \n",
              "4                 1355           86.0      425               1521         0   \n",
              "\n",
              "   CANCELLED  \n",
              "0          0  \n",
              "1          0  \n",
              "2          0  \n",
              "3          0  \n",
              "4          0  \n",
              "\n",
              "[5 rows x 23 columns]"
            ],
            "text/html": [
              "\n",
              "  <div id=\"df-91db989b-de0b-4c34-9873-c5697df19c07\">\n",
              "    <div class=\"colab-df-container\">\n",
              "      <div>\n",
              "<style scoped>\n",
              "    .dataframe tbody tr th:only-of-type {\n",
              "        vertical-align: middle;\n",
              "    }\n",
              "\n",
              "    .dataframe tbody tr th {\n",
              "        vertical-align: top;\n",
              "    }\n",
              "\n",
              "    .dataframe thead th {\n",
              "        text-align: right;\n",
              "    }\n",
              "</style>\n",
              "<table border=\"1\" class=\"dataframe\">\n",
              "  <thead>\n",
              "    <tr style=\"text-align: right;\">\n",
              "      <th></th>\n",
              "      <th>IATA_CODE_x</th>\n",
              "      <th>AIRPORT</th>\n",
              "      <th>CITY</th>\n",
              "      <th>STATE</th>\n",
              "      <th>COUNTRY</th>\n",
              "      <th>LATITUDE</th>\n",
              "      <th>LONGITUDE</th>\n",
              "      <th>IATA_CODE_y</th>\n",
              "      <th>AIRLINE_x</th>\n",
              "      <th>YEAR</th>\n",
              "      <th>...</th>\n",
              "      <th>AIRLINE_y</th>\n",
              "      <th>FLIGHT_NUMBER</th>\n",
              "      <th>ORIGIN_AIRPORT</th>\n",
              "      <th>DESTINATION_AIRPORT</th>\n",
              "      <th>SCHEDULED_DEPARTURE</th>\n",
              "      <th>SCHEDULED_TIME</th>\n",
              "      <th>DISTANCE</th>\n",
              "      <th>SCHEDULED_ARRIVAL</th>\n",
              "      <th>DIVERTED</th>\n",
              "      <th>CANCELLED</th>\n",
              "    </tr>\n",
              "  </thead>\n",
              "  <tbody>\n",
              "    <tr>\n",
              "      <th>0</th>\n",
              "      <td>ABE</td>\n",
              "      <td>Lehigh Valley International Airport</td>\n",
              "      <td>Allentown</td>\n",
              "      <td>PA</td>\n",
              "      <td>USA</td>\n",
              "      <td>40.65236</td>\n",
              "      <td>-75.4404</td>\n",
              "      <td>OO</td>\n",
              "      <td>Skywest Airlines Inc.</td>\n",
              "      <td>2015</td>\n",
              "      <td>...</td>\n",
              "      <td>OO</td>\n",
              "      <td>4507</td>\n",
              "      <td>DTW</td>\n",
              "      <td>ABE</td>\n",
              "      <td>1355</td>\n",
              "      <td>86.0</td>\n",
              "      <td>425</td>\n",
              "      <td>1521</td>\n",
              "      <td>0</td>\n",
              "      <td>0</td>\n",
              "    </tr>\n",
              "    <tr>\n",
              "      <th>1</th>\n",
              "      <td>ABE</td>\n",
              "      <td>Lehigh Valley International Airport</td>\n",
              "      <td>Allentown</td>\n",
              "      <td>PA</td>\n",
              "      <td>USA</td>\n",
              "      <td>40.65236</td>\n",
              "      <td>-75.4404</td>\n",
              "      <td>OO</td>\n",
              "      <td>Skywest Airlines Inc.</td>\n",
              "      <td>2015</td>\n",
              "      <td>...</td>\n",
              "      <td>OO</td>\n",
              "      <td>4507</td>\n",
              "      <td>DTW</td>\n",
              "      <td>ABE</td>\n",
              "      <td>1355</td>\n",
              "      <td>86.0</td>\n",
              "      <td>425</td>\n",
              "      <td>1521</td>\n",
              "      <td>0</td>\n",
              "      <td>0</td>\n",
              "    </tr>\n",
              "    <tr>\n",
              "      <th>2</th>\n",
              "      <td>ABE</td>\n",
              "      <td>Lehigh Valley International Airport</td>\n",
              "      <td>Allentown</td>\n",
              "      <td>PA</td>\n",
              "      <td>USA</td>\n",
              "      <td>40.65236</td>\n",
              "      <td>-75.4404</td>\n",
              "      <td>OO</td>\n",
              "      <td>Skywest Airlines Inc.</td>\n",
              "      <td>2015</td>\n",
              "      <td>...</td>\n",
              "      <td>OO</td>\n",
              "      <td>4507</td>\n",
              "      <td>DTW</td>\n",
              "      <td>ABE</td>\n",
              "      <td>1355</td>\n",
              "      <td>86.0</td>\n",
              "      <td>425</td>\n",
              "      <td>1521</td>\n",
              "      <td>0</td>\n",
              "      <td>0</td>\n",
              "    </tr>\n",
              "    <tr>\n",
              "      <th>3</th>\n",
              "      <td>ABE</td>\n",
              "      <td>Lehigh Valley International Airport</td>\n",
              "      <td>Allentown</td>\n",
              "      <td>PA</td>\n",
              "      <td>USA</td>\n",
              "      <td>40.65236</td>\n",
              "      <td>-75.4404</td>\n",
              "      <td>OO</td>\n",
              "      <td>Skywest Airlines Inc.</td>\n",
              "      <td>2015</td>\n",
              "      <td>...</td>\n",
              "      <td>OO</td>\n",
              "      <td>4507</td>\n",
              "      <td>DTW</td>\n",
              "      <td>ABE</td>\n",
              "      <td>1355</td>\n",
              "      <td>86.0</td>\n",
              "      <td>425</td>\n",
              "      <td>1521</td>\n",
              "      <td>0</td>\n",
              "      <td>0</td>\n",
              "    </tr>\n",
              "    <tr>\n",
              "      <th>4</th>\n",
              "      <td>ABE</td>\n",
              "      <td>Lehigh Valley International Airport</td>\n",
              "      <td>Allentown</td>\n",
              "      <td>PA</td>\n",
              "      <td>USA</td>\n",
              "      <td>40.65236</td>\n",
              "      <td>-75.4404</td>\n",
              "      <td>OO</td>\n",
              "      <td>Skywest Airlines Inc.</td>\n",
              "      <td>2015</td>\n",
              "      <td>...</td>\n",
              "      <td>OO</td>\n",
              "      <td>4507</td>\n",
              "      <td>DTW</td>\n",
              "      <td>ABE</td>\n",
              "      <td>1355</td>\n",
              "      <td>86.0</td>\n",
              "      <td>425</td>\n",
              "      <td>1521</td>\n",
              "      <td>0</td>\n",
              "      <td>0</td>\n",
              "    </tr>\n",
              "  </tbody>\n",
              "</table>\n",
              "<p>5 rows × 23 columns</p>\n",
              "</div>\n",
              "      <button class=\"colab-df-convert\" onclick=\"convertToInteractive('df-91db989b-de0b-4c34-9873-c5697df19c07')\"\n",
              "              title=\"Convert this dataframe to an interactive table.\"\n",
              "              style=\"display:none;\">\n",
              "        \n",
              "  <svg xmlns=\"http://www.w3.org/2000/svg\" height=\"24px\"viewBox=\"0 0 24 24\"\n",
              "       width=\"24px\">\n",
              "    <path d=\"M0 0h24v24H0V0z\" fill=\"none\"/>\n",
              "    <path d=\"M18.56 5.44l.94 2.06.94-2.06 2.06-.94-2.06-.94-.94-2.06-.94 2.06-2.06.94zm-11 1L8.5 8.5l.94-2.06 2.06-.94-2.06-.94L8.5 2.5l-.94 2.06-2.06.94zm10 10l.94 2.06.94-2.06 2.06-.94-2.06-.94-.94-2.06-.94 2.06-2.06.94z\"/><path d=\"M17.41 7.96l-1.37-1.37c-.4-.4-.92-.59-1.43-.59-.52 0-1.04.2-1.43.59L10.3 9.45l-7.72 7.72c-.78.78-.78 2.05 0 2.83L4 21.41c.39.39.9.59 1.41.59.51 0 1.02-.2 1.41-.59l7.78-7.78 2.81-2.81c.8-.78.8-2.07 0-2.86zM5.41 20L4 18.59l7.72-7.72 1.47 1.35L5.41 20z\"/>\n",
              "  </svg>\n",
              "      </button>\n",
              "      \n",
              "  <style>\n",
              "    .colab-df-container {\n",
              "      display:flex;\n",
              "      flex-wrap:wrap;\n",
              "      gap: 12px;\n",
              "    }\n",
              "\n",
              "    .colab-df-convert {\n",
              "      background-color: #E8F0FE;\n",
              "      border: none;\n",
              "      border-radius: 50%;\n",
              "      cursor: pointer;\n",
              "      display: none;\n",
              "      fill: #1967D2;\n",
              "      height: 32px;\n",
              "      padding: 0 0 0 0;\n",
              "      width: 32px;\n",
              "    }\n",
              "\n",
              "    .colab-df-convert:hover {\n",
              "      background-color: #E2EBFA;\n",
              "      box-shadow: 0px 1px 2px rgba(60, 64, 67, 0.3), 0px 1px 3px 1px rgba(60, 64, 67, 0.15);\n",
              "      fill: #174EA6;\n",
              "    }\n",
              "\n",
              "    [theme=dark] .colab-df-convert {\n",
              "      background-color: #3B4455;\n",
              "      fill: #D2E3FC;\n",
              "    }\n",
              "\n",
              "    [theme=dark] .colab-df-convert:hover {\n",
              "      background-color: #434B5C;\n",
              "      box-shadow: 0px 1px 3px 1px rgba(0, 0, 0, 0.15);\n",
              "      filter: drop-shadow(0px 1px 2px rgba(0, 0, 0, 0.3));\n",
              "      fill: #FFFFFF;\n",
              "    }\n",
              "  </style>\n",
              "\n",
              "      <script>\n",
              "        const buttonEl =\n",
              "          document.querySelector('#df-91db989b-de0b-4c34-9873-c5697df19c07 button.colab-df-convert');\n",
              "        buttonEl.style.display =\n",
              "          google.colab.kernel.accessAllowed ? 'block' : 'none';\n",
              "\n",
              "        async function convertToInteractive(key) {\n",
              "          const element = document.querySelector('#df-91db989b-de0b-4c34-9873-c5697df19c07');\n",
              "          const dataTable =\n",
              "            await google.colab.kernel.invokeFunction('convertToInteractive',\n",
              "                                                     [key], {});\n",
              "          if (!dataTable) return;\n",
              "\n",
              "          const docLinkHtml = 'Like what you see? Visit the ' +\n",
              "            '<a target=\"_blank\" href=https://colab.research.google.com/notebooks/data_table.ipynb>data table notebook</a>'\n",
              "            + ' to learn more about interactive tables.';\n",
              "          element.innerHTML = '';\n",
              "          dataTable['output_type'] = 'display_data';\n",
              "          await google.colab.output.renderOutput(dataTable, element);\n",
              "          const docLink = document.createElement('div');\n",
              "          docLink.innerHTML = docLinkHtml;\n",
              "          element.appendChild(docLink);\n",
              "        }\n",
              "      </script>\n",
              "    </div>\n",
              "  </div>\n",
              "  "
            ]
          },
          "metadata": {},
          "execution_count": 29
        }
      ]
    },
    {
      "cell_type": "code",
      "source": [
        "#box-plot after removing outliers\n",
        "sns.boxplot(x=main_df['LATITUDE'])"
      ],
      "metadata": {
        "colab": {
          "base_uri": "https://localhost:8080/",
          "height": 297
        },
        "id": "kmVQUSa0VrFq",
        "outputId": "c29ac369-66ef-4356-dbbf-944577e9a8c3"
      },
      "execution_count": 30,
      "outputs": [
        {
          "output_type": "execute_result",
          "data": {
            "text/plain": [
              "<matplotlib.axes._subplots.AxesSubplot at 0x7feb7f12a160>"
            ]
          },
          "metadata": {},
          "execution_count": 30
        },
        {
          "output_type": "display_data",
          "data": {
            "text/plain": [
              "<Figure size 432x288 with 1 Axes>"
            ],
            "image/png": "[encoded data removed]"
          },
          "metadata": {
            "needs_background": "light"
          }
        }
      ]
    },
    {
      "cell_type": "code",
      "source": [
        "sns.boxplot(x=main_df['LONGITUDE'])"
      ],
      "metadata": {
        "id": "oD3uHrIP_Te-",
        "colab": {
          "base_uri": "https://localhost:8080/",
          "height": 297
        },
        "outputId": "06d45ec2-e6d4-472a-9644-cb7a5e0dc333"
      },
      "execution_count": 31,
      "outputs": [
        {
          "output_type": "execute_result",
          "data": {
            "text/plain": [
              "<matplotlib.axes._subplots.AxesSubplot at 0x7feb7e469e50>"
            ]
          },
          "metadata": {},
          "execution_count": 31
        },
        {
          "output_type": "display_data",
          "data": {
            "text/plain": [
              "<Figure size 432x288 with 1 Axes>"
            ],
            "image/png": "[encoded data removed]"
          },
          "metadata": {
            "needs_background": "light"
          }
        }
      ]
    },
    {
      "cell_type": "code",
      "source": [
        "Q1 = main_df['LONGITUDE'].quantile(0.25)\n",
        "Q3 = main_df['LONGITUDE'].quantile(0.75)\n",
        "IQR = Q3 - Q1\n",
        "print(IQR)"
      ],
      "metadata": {
        "colab": {
          "base_uri": "https://localhost:8080/"
        },
        "id": "b4qmrPGJWA7S",
        "outputId": "ba9a5616-eb02-4f76-d5eb-f1dc14ba62b4"
      },
      "execution_count": 32,
      "outputs": [
        {
          "output_type": "stream",
          "name": "stdout",
          "text": [
            "29.429779999999994\n"
          ]
        }
      ]
    },
    {
      "cell_type": "code",
      "source": [
        "arr_1 = main_df['LONGITUDE'] < (Q1 - 1.5 * IQR)\n",
        "arr_2 = main_df['LONGITUDE'] > (Q3 + 1.5 * IQR)\n",
        "mask = (arr_1 | arr_2)"
      ],
      "metadata": {
        "id": "PJXbDqkNWEk4"
      },
      "execution_count": 33,
      "outputs": []
    },
    {
      "cell_type": "code",
      "source": [
        "print(\"No. of outliers: \", mask.sum())"
      ],
      "metadata": {
        "colab": {
          "base_uri": "https://localhost:8080/"
        },
        "id": "NRWYu3CTWJsx",
        "outputId": "986e9d6e-50f8-4a2c-8ed4-814770927657"
      },
      "execution_count": 34,
      "outputs": [
        {
          "output_type": "stream",
          "name": "stdout",
          "text": [
            "No. of outliers:  53798\n"
          ]
        }
      ]
    },
    {
      "cell_type": "code",
      "source": [
        "#Removing the outliers\n",
        "main_df = main_df[~(mask)]\n",
        "main_df.head()"
      ],
      "metadata": {
        "colab": {
          "base_uri": "https://localhost:8080/",
          "height": 560
        },
        "id": "VehwEiS7WMvy",
        "outputId": "17adbd17-39af-49b3-fbc4-48f38a651363"
      },
      "execution_count": 35,
      "outputs": [
        {
          "output_type": "execute_result",
          "data": {
            "text/plain": [
              "  IATA_CODE_x                              AIRPORT       CITY STATE COUNTRY  \\\n",
              "0         ABE  Lehigh Valley International Airport  Allentown    PA     USA   \n",
              "1         ABE  Lehigh Valley International Airport  Allentown    PA     USA   \n",
              "2         ABE  Lehigh Valley International Airport  Allentown    PA     USA   \n",
              "3         ABE  Lehigh Valley International Airport  Allentown    PA     USA   \n",
              "4         ABE  Lehigh Valley International Airport  Allentown    PA     USA   \n",
              "\n",
              "   LATITUDE  LONGITUDE IATA_CODE_y              AIRLINE_x  YEAR  ...  \\\n",
              "0  40.65236   -75.4404          OO  Skywest Airlines Inc.  2015  ...   \n",
              "1  40.65236   -75.4404          OO  Skywest Airlines Inc.  2015  ...   \n",
              "2  40.65236   -75.4404          OO  Skywest Airlines Inc.  2015  ...   \n",
              "3  40.65236   -75.4404          OO  Skywest Airlines Inc.  2015  ...   \n",
              "4  40.65236   -75.4404          OO  Skywest Airlines Inc.  2015  ...   \n",
              "\n",
              "   AIRLINE_y  FLIGHT_NUMBER  ORIGIN_AIRPORT DESTINATION_AIRPORT  \\\n",
              "0         OO           4507             DTW                 ABE   \n",
              "1         OO           4507             DTW                 ABE   \n",
              "2         OO           4507             DTW                 ABE   \n",
              "3         OO           4507             DTW                 ABE   \n",
              "4         OO           4507             DTW                 ABE   \n",
              "\n",
              "   SCHEDULED_DEPARTURE SCHEDULED_TIME DISTANCE  SCHEDULED_ARRIVAL  DIVERTED  \\\n",
              "0                 1355           86.0      425               1521         0   \n",
              "1                 1355           86.0      425               1521         0   \n",
              "2                 1355           86.0      425               1521         0   \n",
              "3                 1355           86.0      425               1521         0   \n",
              "4                 1355           86.0      425               1521         0   \n",
              "\n",
              "   CANCELLED  \n",
              "0          0  \n",
              "1          0  \n",
              "2          0  \n",
              "3          0  \n",
              "4          0  \n",
              "\n",
              "[5 rows x 23 columns]"
            ],
            "text/html": [
              "\n",
              "  <div id=\"df-0c9e8047-a7f0-47d6-941f-f9e3b027cc65\">\n",
              "    <div class=\"colab-df-container\">\n",
              "      <div>\n",
              "<style scoped>\n",
              "    .dataframe tbody tr th:only-of-type {\n",
              "        vertical-align: middle;\n",
              "    }\n",
              "\n",
              "    .dataframe tbody tr th {\n",
              "        vertical-align: top;\n",
              "    }\n",
              "\n",
              "    .dataframe thead th {\n",
              "        text-align: right;\n",
              "    }\n",
              "</style>\n",
              "<table border=\"1\" class=\"dataframe\">\n",
              "  <thead>\n",
              "    <tr style=\"text-align: right;\">\n",
              "      <th></th>\n",
              "      <th>IATA_CODE_x</th>\n",
              "      <th>AIRPORT</th>\n",
              "      <th>CITY</th>\n",
              "      <th>STATE</th>\n",
              "      <th>COUNTRY</th>\n",
              "      <th>LATITUDE</th>\n",
              "      <th>LONGITUDE</th>\n",
              "      <th>IATA_CODE_y</th>\n",
              "      <th>AIRLINE_x</th>\n",
              "      <th>YEAR</th>\n",
              "      <th>...</th>\n",
              "      <th>AIRLINE_y</th>\n",
              "      <th>FLIGHT_NUMBER</th>\n",
              "      <th>ORIGIN_AIRPORT</th>\n",
              "      <th>DESTINATION_AIRPORT</th>\n",
              "      <th>SCHEDULED_DEPARTURE</th>\n",
              "      <th>SCHEDULED_TIME</th>\n",
              "      <th>DISTANCE</th>\n",
              "      <th>SCHEDULED_ARRIVAL</th>\n",
              "      <th>DIVERTED</th>\n",
              "      <th>CANCELLED</th>\n",
              "    </tr>\n",
              "  </thead>\n",
              "  <tbody>\n",
              "    <tr>\n",
              "      <th>0</th>\n",
              "      <td>ABE</td>\n",
              "      <td>Lehigh Valley International Airport</td>\n",
              "      <td>Allentown</td>\n",
              "      <td>PA</td>\n",
              "      <td>USA</td>\n",
              "      <td>40.65236</td>\n",
              "      <td>-75.4404</td>\n",
              "      <td>OO</td>\n",
              "      <td>Skywest Airlines Inc.</td>\n",
              "      <td>2015</td>\n",
              "      <td>...</td>\n",
              "      <td>OO</td>\n",
              "      <td>4507</td>\n",
              "      <td>DTW</td>\n",
              "      <td>ABE</td>\n",
              "      <td>1355</td>\n",
              "      <td>86.0</td>\n",
              "      <td>425</td>\n",
              "      <td>1521</td>\n",
              "      <td>0</td>\n",
              "      <td>0</td>\n",
              "    </tr>\n",
              "    <tr>\n",
              "      <th>1</th>\n",
              "      <td>ABE</td>\n",
              "      <td>Lehigh Valley International Airport</td>\n",
              "      <td>Allentown</td>\n",
              "      <td>PA</td>\n",
              "      <td>USA</td>\n",
              "      <td>40.65236</td>\n",
              "      <td>-75.4404</td>\n",
              "      <td>OO</td>\n",
              "      <td>Skywest Airlines Inc.</td>\n",
              "      <td>2015</td>\n",
              "      <td>...</td>\n",
              "      <td>OO</td>\n",
              "      <td>4507</td>\n",
              "      <td>DTW</td>\n",
              "      <td>ABE</td>\n",
              "      <td>1355</td>\n",
              "      <td>86.0</td>\n",
              "      <td>425</td>\n",
              "      <td>1521</td>\n",
              "      <td>0</td>\n",
              "      <td>0</td>\n",
              "    </tr>\n",
              "    <tr>\n",
              "      <th>2</th>\n",
              "      <td>ABE</td>\n",
              "      <td>Lehigh Valley International Airport</td>\n",
              "      <td>Allentown</td>\n",
              "      <td>PA</td>\n",
              "      <td>USA</td>\n",
              "      <td>40.65236</td>\n",
              "      <td>-75.4404</td>\n",
              "      <td>OO</td>\n",
              "      <td>Skywest Airlines Inc.</td>\n",
              "      <td>2015</td>\n",
              "      <td>...</td>\n",
              "      <td>OO</td>\n",
              "      <td>4507</td>\n",
              "      <td>DTW</td>\n",
              "      <td>ABE</td>\n",
              "      <td>1355</td>\n",
              "      <td>86.0</td>\n",
              "      <td>425</td>\n",
              "      <td>1521</td>\n",
              "      <td>0</td>\n",
              "      <td>0</td>\n",
              "    </tr>\n",
              "    <tr>\n",
              "      <th>3</th>\n",
              "      <td>ABE</td>\n",
              "      <td>Lehigh Valley International Airport</td>\n",
              "      <td>Allentown</td>\n",
              "      <td>PA</td>\n",
              "      <td>USA</td>\n",
              "      <td>40.65236</td>\n",
              "      <td>-75.4404</td>\n",
              "      <td>OO</td>\n",
              "      <td>Skywest Airlines Inc.</td>\n",
              "      <td>2015</td>\n",
              "      <td>...</td>\n",
              "      <td>OO</td>\n",
              "      <td>4507</td>\n",
              "      <td>DTW</td>\n",
              "      <td>ABE</td>\n",
              "      <td>1355</td>\n",
              "      <td>86.0</td>\n",
              "      <td>425</td>\n",
              "      <td>1521</td>\n",
              "      <td>0</td>\n",
              "      <td>0</td>\n",
              "    </tr>\n",
              "    <tr>\n",
              "      <th>4</th>\n",
              "      <td>ABE</td>\n",
              "      <td>Lehigh Valley International Airport</td>\n",
              "      <td>Allentown</td>\n",
              "      <td>PA</td>\n",
              "      <td>USA</td>\n",
              "      <td>40.65236</td>\n",
              "      <td>-75.4404</td>\n",
              "      <td>OO</td>\n",
              "      <td>Skywest Airlines Inc.</td>\n",
              "      <td>2015</td>\n",
              "      <td>...</td>\n",
              "      <td>OO</td>\n",
              "      <td>4507</td>\n",
              "      <td>DTW</td>\n",
              "      <td>ABE</td>\n",
              "      <td>1355</td>\n",
              "      <td>86.0</td>\n",
              "      <td>425</td>\n",
              "      <td>1521</td>\n",
              "      <td>0</td>\n",
              "      <td>0</td>\n",
              "    </tr>\n",
              "  </tbody>\n",
              "</table>\n",
              "<p>5 rows × 23 columns</p>\n",
              "</div>\n",
              "      <button class=\"colab-df-convert\" onclick=\"convertToInteractive('df-0c9e8047-a7f0-47d6-941f-f9e3b027cc65')\"\n",
              "              title=\"Convert this dataframe to an interactive table.\"\n",
              "              style=\"display:none;\">\n",
              "        \n",
              "  <svg xmlns=\"http://www.w3.org/2000/svg\" height=\"24px\"viewBox=\"0 0 24 24\"\n",
              "       width=\"24px\">\n",
              "    <path d=\"M0 0h24v24H0V0z\" fill=\"none\"/>\n",
              "    <path d=\"M18.56 5.44l.94 2.06.94-2.06 2.06-.94-2.06-.94-.94-2.06-.94 2.06-2.06.94zm-11 1L8.5 8.5l.94-2.06 2.06-.94-2.06-.94L8.5 2.5l-.94 2.06-2.06.94zm10 10l.94 2.06.94-2.06 2.06-.94-2.06-.94-.94-2.06-.94 2.06-2.06.94z\"/><path d=\"M17.41 7.96l-1.37-1.37c-.4-.4-.92-.59-1.43-.59-.52 0-1.04.2-1.43.59L10.3 9.45l-7.72 7.72c-.78.78-.78 2.05 0 2.83L4 21.41c.39.39.9.59 1.41.59.51 0 1.02-.2 1.41-.59l7.78-7.78 2.81-2.81c.8-.78.8-2.07 0-2.86zM5.41 20L4 18.59l7.72-7.72 1.47 1.35L5.41 20z\"/>\n",
              "  </svg>\n",
              "      </button>\n",
              "      \n",
              "  <style>\n",
              "    .colab-df-container {\n",
              "      display:flex;\n",
              "      flex-wrap:wrap;\n",
              "      gap: 12px;\n",
              "    }\n",
              "\n",
              "    .colab-df-convert {\n",
              "      background-color: #E8F0FE;\n",
              "      border: none;\n",
              "      border-radius: 50%;\n",
              "      cursor: pointer;\n",
              "      display: none;\n",
              "      fill: #1967D2;\n",
              "      height: 32px;\n",
              "      padding: 0 0 0 0;\n",
              "      width: 32px;\n",
              "    }\n",
              "\n",
              "    .colab-df-convert:hover {\n",
              "      background-color: #E2EBFA;\n",
              "      box-shadow: 0px 1px 2px rgba(60, 64, 67, 0.3), 0px 1px 3px 1px rgba(60, 64, 67, 0.15);\n",
              "      fill: #174EA6;\n",
              "    }\n",
              "\n",
              "    [theme=dark] .colab-df-convert {\n",
              "      background-color: #3B4455;\n",
              "      fill: #D2E3FC;\n",
              "    }\n",
              "\n",
              "    [theme=dark] .colab-df-convert:hover {\n",
              "      background-color: #434B5C;\n",
              "      box-shadow: 0px 1px 3px 1px rgba(0, 0, 0, 0.15);\n",
              "      filter: drop-shadow(0px 1px 2px rgba(0, 0, 0, 0.3));\n",
              "      fill: #FFFFFF;\n",
              "    }\n",
              "  </style>\n",
              "\n",
              "      <script>\n",
              "        const buttonEl =\n",
              "          document.querySelector('#df-0c9e8047-a7f0-47d6-941f-f9e3b027cc65 button.colab-df-convert');\n",
              "        buttonEl.style.display =\n",
              "          google.colab.kernel.accessAllowed ? 'block' : 'none';\n",
              "\n",
              "        async function convertToInteractive(key) {\n",
              "          const element = document.querySelector('#df-0c9e8047-a7f0-47d6-941f-f9e3b027cc65');\n",
              "          const dataTable =\n",
              "            await google.colab.kernel.invokeFunction('convertToInteractive',\n",
              "                                                     [key], {});\n",
              "          if (!dataTable) return;\n",
              "\n",
              "          const docLinkHtml = 'Like what you see? Visit the ' +\n",
              "            '<a target=\"_blank\" href=https://colab.research.google.com/notebooks/data_table.ipynb>data table notebook</a>'\n",
              "            + ' to learn more about interactive tables.';\n",
              "          element.innerHTML = '';\n",
              "          dataTable['output_type'] = 'display_data';\n",
              "          await google.colab.output.renderOutput(dataTable, element);\n",
              "          const docLink = document.createElement('div');\n",
              "          docLink.innerHTML = docLinkHtml;\n",
              "          element.appendChild(docLink);\n",
              "        }\n",
              "      </script>\n",
              "    </div>\n",
              "  </div>\n",
              "  "
            ]
          },
          "metadata": {},
          "execution_count": 35
        }
      ]
    },
    {
      "cell_type": "code",
      "source": [
        "#box-plot after removing outliers\n",
        "sns.boxplot(x=main_df['LONGITUDE'])"
      ],
      "metadata": {
        "colab": {
          "base_uri": "https://localhost:8080/",
          "height": 297
        },
        "id": "J6cx8Pi8Xz1d",
        "outputId": "82068b5f-fd44-4b4c-fae0-aaaf74a2dea1"
      },
      "execution_count": 36,
      "outputs": [
        {
          "output_type": "execute_result",
          "data": {
            "text/plain": [
              "<matplotlib.axes._subplots.AxesSubplot at 0x7feb8292c2e0>"
            ]
          },
          "metadata": {},
          "execution_count": 36
        },
        {
          "output_type": "display_data",
          "data": {
            "text/plain": [
              "<Figure size 432x288 with 1 Axes>"
            ],
            "image/png": "[encoded data removed]"
          },
          "metadata": {
            "needs_background": "light"
          }
        }
      ]
    },
    {
      "cell_type": "code",
      "source": [
        "#fill the missing values for numerical terms - mean(Continous Variables) - after removing outliers\n",
        "main_df['LONGITUDE'] = main_df['LONGITUDE'].fillna(main_df['LONGITUDE'].mean())\n",
        "main_df['LATITUDE'] = main_df['LATITUDE'].fillna(main_df['LATITUDE'].mean())\n"
      ],
      "metadata": {
        "id": "Xw9MYWs0dj8p"
      },
      "execution_count": 37,
      "outputs": []
    },
    {
      "cell_type": "code",
      "source": [
        "main_df.isnull().sum()"
      ],
      "metadata": {
        "colab": {
          "base_uri": "https://localhost:8080/"
        },
        "id": "yn1u8N6benSm",
        "outputId": "d73a00f1-28e1-4d67-ca62-ee68dfd72f0f"
      },
      "execution_count": 38,
      "outputs": [
        {
          "output_type": "execute_result",
          "data": {
            "text/plain": [
              "IATA_CODE_x            0\n",
              "AIRPORT                0\n",
              "CITY                   0\n",
              "STATE                  0\n",
              "COUNTRY                0\n",
              "LATITUDE               0\n",
              "LONGITUDE              0\n",
              "IATA_CODE_y            0\n",
              "AIRLINE_x              0\n",
              "YEAR                   0\n",
              "MONTH                  0\n",
              "DAY                    0\n",
              "DAY_OF_WEEK            0\n",
              "AIRLINE_y              0\n",
              "FLIGHT_NUMBER          0\n",
              "ORIGIN_AIRPORT         0\n",
              "DESTINATION_AIRPORT    0\n",
              "SCHEDULED_DEPARTURE    0\n",
              "SCHEDULED_TIME         6\n",
              "DISTANCE               0\n",
              "SCHEDULED_ARRIVAL      0\n",
              "DIVERTED               0\n",
              "CANCELLED              0\n",
              "dtype: int64"
            ]
          },
          "metadata": {},
          "execution_count": 38
        }
      ]
    },
    {
      "cell_type": "markdown",
      "source": [
        "**Feature Engineering**"
      ],
      "metadata": {
        "id": "AaKI_aFaJL8g"
      }
    },
    {
      "cell_type": "code",
      "source": [
        "main_df.head(3)\n"
      ],
      "metadata": {
        "colab": {
          "base_uri": "https://localhost:8080/",
          "height": 393
        },
        "id": "lThrLVcsJLsH",
        "outputId": "ec21992d-8a73-46d8-cc8c-7a4a575d3f9d"
      },
      "execution_count": 39,
      "outputs": [
        {
          "output_type": "execute_result",
          "data": {
            "text/plain": [
              "  IATA_CODE_x                              AIRPORT       CITY STATE COUNTRY  \\\n",
              "0         ABE  Lehigh Valley International Airport  Allentown    PA     USA   \n",
              "1         ABE  Lehigh Valley International Airport  Allentown    PA     USA   \n",
              "2         ABE  Lehigh Valley International Airport  Allentown    PA     USA   \n",
              "\n",
              "   LATITUDE  LONGITUDE IATA_CODE_y              AIRLINE_x  YEAR  ...  \\\n",
              "0  40.65236   -75.4404          OO  Skywest Airlines Inc.  2015  ...   \n",
              "1  40.65236   -75.4404          OO  Skywest Airlines Inc.  2015  ...   \n",
              "2  40.65236   -75.4404          OO  Skywest Airlines Inc.  2015  ...   \n",
              "\n",
              "   AIRLINE_y  FLIGHT_NUMBER  ORIGIN_AIRPORT DESTINATION_AIRPORT  \\\n",
              "0         OO           4507             DTW                 ABE   \n",
              "1         OO           4507             DTW                 ABE   \n",
              "2         OO           4507             DTW                 ABE   \n",
              "\n",
              "   SCHEDULED_DEPARTURE SCHEDULED_TIME DISTANCE  SCHEDULED_ARRIVAL  DIVERTED  \\\n",
              "0                 1355           86.0      425               1521         0   \n",
              "1                 1355           86.0      425               1521         0   \n",
              "2                 1355           86.0      425               1521         0   \n",
              "\n",
              "   CANCELLED  \n",
              "0          0  \n",
              "1          0  \n",
              "2          0  \n",
              "\n",
              "[3 rows x 23 columns]"
            ],
            "text/html": [
              "\n",
              "  <div id=\"df-40c87259-ed8c-4636-8f59-66a5135c5ddf\">\n",
              "    <div class=\"colab-df-container\">\n",
              "      <div>\n",
              "<style scoped>\n",
              "    .dataframe tbody tr th:only-of-type {\n",
              "        vertical-align: middle;\n",
              "    }\n",
              "\n",
              "    .dataframe tbody tr th {\n",
              "        vertical-align: top;\n",
              "    }\n",
              "\n",
              "    .dataframe thead th {\n",
              "        text-align: right;\n",
              "    }\n",
              "</style>\n",
              "<table border=\"1\" class=\"dataframe\">\n",
              "  <thead>\n",
              "    <tr style=\"text-align: right;\">\n",
              "      <th></th>\n",
              "      <th>IATA_CODE_x</th>\n",
              "      <th>AIRPORT</th>\n",
              "      <th>CITY</th>\n",
              "      <th>STATE</th>\n",
              "      <th>COUNTRY</th>\n",
              "      <th>LATITUDE</th>\n",
              "      <th>LONGITUDE</th>\n",
              "      <th>IATA_CODE_y</th>\n",
              "      <th>AIRLINE_x</th>\n",
              "      <th>YEAR</th>\n",
              "      <th>...</th>\n",
              "      <th>AIRLINE_y</th>\n",
              "      <th>FLIGHT_NUMBER</th>\n",
              "      <th>ORIGIN_AIRPORT</th>\n",
              "      <th>DESTINATION_AIRPORT</th>\n",
              "      <th>SCHEDULED_DEPARTURE</th>\n",
              "      <th>SCHEDULED_TIME</th>\n",
              "      <th>DISTANCE</th>\n",
              "      <th>SCHEDULED_ARRIVAL</th>\n",
              "      <th>DIVERTED</th>\n",
              "      <th>CANCELLED</th>\n",
              "    </tr>\n",
              "  </thead>\n",
              "  <tbody>\n",
              "    <tr>\n",
              "      <th>0</th>\n",
              "      <td>ABE</td>\n",
              "      <td>Lehigh Valley International Airport</td>\n",
              "      <td>Allentown</td>\n",
              "      <td>PA</td>\n",
              "      <td>USA</td>\n",
              "      <td>40.65236</td>\n",
              "      <td>-75.4404</td>\n",
              "      <td>OO</td>\n",
              "      <td>Skywest Airlines Inc.</td>\n",
              "      <td>2015</td>\n",
              "      <td>...</td>\n",
              "      <td>OO</td>\n",
              "      <td>4507</td>\n",
              "      <td>DTW</td>\n",
              "      <td>ABE</td>\n",
              "      <td>1355</td>\n",
              "      <td>86.0</td>\n",
              "      <td>425</td>\n",
              "      <td>1521</td>\n",
              "      <td>0</td>\n",
              "      <td>0</td>\n",
              "    </tr>\n",
              "    <tr>\n",
              "      <th>1</th>\n",
              "      <td>ABE</td>\n",
              "      <td>Lehigh Valley International Airport</td>\n",
              "      <td>Allentown</td>\n",
              "      <td>PA</td>\n",
              "      <td>USA</td>\n",
              "      <td>40.65236</td>\n",
              "      <td>-75.4404</td>\n",
              "      <td>OO</td>\n",
              "      <td>Skywest Airlines Inc.</td>\n",
              "      <td>2015</td>\n",
              "      <td>...</td>\n",
              "      <td>OO</td>\n",
              "      <td>4507</td>\n",
              "      <td>DTW</td>\n",
              "      <td>ABE</td>\n",
              "      <td>1355</td>\n",
              "      <td>86.0</td>\n",
              "      <td>425</td>\n",
              "      <td>1521</td>\n",
              "      <td>0</td>\n",
              "      <td>0</td>\n",
              "    </tr>\n",
              "    <tr>\n",
              "      <th>2</th>\n",
              "      <td>ABE</td>\n",
              "      <td>Lehigh Valley International Airport</td>\n",
              "      <td>Allentown</td>\n",
              "      <td>PA</td>\n",
              "      <td>USA</td>\n",
              "      <td>40.65236</td>\n",
              "      <td>-75.4404</td>\n",
              "      <td>OO</td>\n",
              "      <td>Skywest Airlines Inc.</td>\n",
              "      <td>2015</td>\n",
              "      <td>...</td>\n",
              "      <td>OO</td>\n",
              "      <td>4507</td>\n",
              "      <td>DTW</td>\n",
              "      <td>ABE</td>\n",
              "      <td>1355</td>\n",
              "      <td>86.0</td>\n",
              "      <td>425</td>\n",
              "      <td>1521</td>\n",
              "      <td>0</td>\n",
              "      <td>0</td>\n",
              "    </tr>\n",
              "  </tbody>\n",
              "</table>\n",
              "<p>3 rows × 23 columns</p>\n",
              "</div>\n",
              "      <button class=\"colab-df-convert\" onclick=\"convertToInteractive('df-40c87259-ed8c-4636-8f59-66a5135c5ddf')\"\n",
              "              title=\"Convert this dataframe to an interactive table.\"\n",
              "              style=\"display:none;\">\n",
              "        \n",
              "  <svg xmlns=\"http://www.w3.org/2000/svg\" height=\"24px\"viewBox=\"0 0 24 24\"\n",
              "       width=\"24px\">\n",
              "    <path d=\"M0 0h24v24H0V0z\" fill=\"none\"/>\n",
              "    <path d=\"M18.56 5.44l.94 2.06.94-2.06 2.06-.94-2.06-.94-.94-2.06-.94 2.06-2.06.94zm-11 1L8.5 8.5l.94-2.06 2.06-.94-2.06-.94L8.5 2.5l-.94 2.06-2.06.94zm10 10l.94 2.06.94-2.06 2.06-.94-2.06-.94-.94-2.06-.94 2.06-2.06.94z\"/><path d=\"M17.41 7.96l-1.37-1.37c-.4-.4-.92-.59-1.43-.59-.52 0-1.04.2-1.43.59L10.3 9.45l-7.72 7.72c-.78.78-.78 2.05 0 2.83L4 21.41c.39.39.9.59 1.41.59.51 0 1.02-.2 1.41-.59l7.78-7.78 2.81-2.81c.8-.78.8-2.07 0-2.86zM5.41 20L4 18.59l7.72-7.72 1.47 1.35L5.41 20z\"/>\n",
              "  </svg>\n",
              "      </button>\n",
              "      \n",
              "  <style>\n",
              "    .colab-df-container {\n",
              "      display:flex;\n",
              "      flex-wrap:wrap;\n",
              "      gap: 12px;\n",
              "    }\n",
              "\n",
              "    .colab-df-convert {\n",
              "      background-color: #E8F0FE;\n",
              "      border: none;\n",
              "      border-radius: 50%;\n",
              "      cursor: pointer;\n",
              "      display: none;\n",
              "      fill: #1967D2;\n",
              "      height: 32px;\n",
              "      padding: 0 0 0 0;\n",
              "      width: 32px;\n",
              "    }\n",
              "\n",
              "    .colab-df-convert:hover {\n",
              "      background-color: #E2EBFA;\n",
              "      box-shadow: 0px 1px 2px rgba(60, 64, 67, 0.3), 0px 1px 3px 1px rgba(60, 64, 67, 0.15);\n",
              "      fill: #174EA6;\n",
              "    }\n",
              "\n",
              "    [theme=dark] .colab-df-convert {\n",
              "      background-color: #3B4455;\n",
              "      fill: #D2E3FC;\n",
              "    }\n",
              "\n",
              "    [theme=dark] .colab-df-convert:hover {\n",
              "      background-color: #434B5C;\n",
              "      box-shadow: 0px 1px 3px 1px rgba(0, 0, 0, 0.15);\n",
              "      filter: drop-shadow(0px 1px 2px rgba(0, 0, 0, 0.3));\n",
              "      fill: #FFFFFF;\n",
              "    }\n",
              "  </style>\n",
              "\n",
              "      <script>\n",
              "        const buttonEl =\n",
              "          document.querySelector('#df-40c87259-ed8c-4636-8f59-66a5135c5ddf button.colab-df-convert');\n",
              "        buttonEl.style.display =\n",
              "          google.colab.kernel.accessAllowed ? 'block' : 'none';\n",
              "\n",
              "        async function convertToInteractive(key) {\n",
              "          const element = document.querySelector('#df-40c87259-ed8c-4636-8f59-66a5135c5ddf');\n",
              "          const dataTable =\n",
              "            await google.colab.kernel.invokeFunction('convertToInteractive',\n",
              "                                                     [key], {});\n",
              "          if (!dataTable) return;\n",
              "\n",
              "          const docLinkHtml = 'Like what you see? Visit the ' +\n",
              "            '<a target=\"_blank\" href=https://colab.research.google.com/notebooks/data_table.ipynb>data table notebook</a>'\n",
              "            + ' to learn more about interactive tables.';\n",
              "          element.innerHTML = '';\n",
              "          dataTable['output_type'] = 'display_data';\n",
              "          await google.colab.output.renderOutput(dataTable, element);\n",
              "          const docLink = document.createElement('div');\n",
              "          docLink.innerHTML = docLinkHtml;\n",
              "          element.appendChild(docLink);\n",
              "        }\n",
              "      </script>\n",
              "    </div>\n",
              "  </div>\n",
              "  "
            ]
          },
          "metadata": {},
          "execution_count": 39
        }
      ]
    },
    {
      "cell_type": "code",
      "source": [
        "df_main_demo2 = main_df "
      ],
      "metadata": {
        "id": "J9VsIiprJdGW"
      },
      "execution_count": 41,
      "outputs": []
    },
    {
      "cell_type": "code",
      "source": [
        "#Newley Created Feature 'DATE' that will be calculated using the features 'YEAR','MONTH', 'DAY'\n",
        "df_main_demo2['DATE'] = pd.to_datetime(df_main_demo2[['YEAR','MONTH', 'DAY']])\n"
      ],
      "metadata": {
        "id": "iL7NsWszObPR"
      },
      "execution_count": 42,
      "outputs": []
    },
    {
      "cell_type": "code",
      "source": [
        "#here this features helps me calculate the passenger footstep in each given airport \n",
        "air_trips = df_main_demo2.groupby(['ORIGIN_AIRPORT', 'DESTINATION_AIRPORT'], as_index=False)['FLIGHT_NUMBER'].count()\n",
        "air_trips.sort_values(by='FLIGHT_NUMBER',inplace=True, ignore_index=True)\n",
        "\n",
        "air_trips['Trips'] = air_trips.apply(lambda x: str(x['ORIGIN_AIRPORT'])+'-'+str(x['DESTINATION_AIRPORT']),axis=1)\n",
        "sns.catplot(y='Trips', x='FLIGHT_NUMBER', kind='bar', \n",
        "            data=air_trips.iloc[-10:,:], \n",
        "            aspect=2)\n",
        "plt.xlabel('Number of Flights')\n",
        "plt.ylabel('Trips')\n",
        "plt.show()"
      ],
      "metadata": {
        "colab": {
          "base_uri": "https://localhost:8080/",
          "height": 368
        },
        "id": "A2tIAKFf3Lge",
        "outputId": "575b6dd6-f1fc-4507-8cca-c945da522eaf"
      },
      "execution_count": 44,
      "outputs": [
        {
          "output_type": "display_data",
          "data": {
            "text/plain": [
              "<Figure size 720x360 with 1 Axes>"
            ],
            "image/png": "[encoded data removed]"
          },
          "metadata": {
            "needs_background": "light"
          }
        }
      ]
    },
    {
      "cell_type": "code",
      "source": [
        "df_main_demo2.head(1)"
      ],
      "metadata": {
        "colab": {
          "base_uri": "https://localhost:8080/",
          "height": 226
        },
        "id": "sukAKi8lbUhN",
        "outputId": "6c34d40d-3008-4239-8b3e-3c2aa81d506c"
      },
      "execution_count": 46,
      "outputs": [
        {
          "output_type": "execute_result",
          "data": {
            "text/plain": [
              "  IATA_CODE_x                              AIRPORT       CITY STATE COUNTRY  \\\n",
              "0         ABE  Lehigh Valley International Airport  Allentown    PA     USA   \n",
              "\n",
              "   LATITUDE  LONGITUDE IATA_CODE_y              AIRLINE_x  YEAR  ...  \\\n",
              "0  40.65236   -75.4404          OO  Skywest Airlines Inc.  2015  ...   \n",
              "\n",
              "   ORIGIN_AIRPORT  DESTINATION_AIRPORT  SCHEDULED_DEPARTURE SCHEDULED_TIME  \\\n",
              "0             DTW                  ABE                 1355           86.0   \n",
              "\n",
              "   DISTANCE SCHEDULED_ARRIVAL DIVERTED  CANCELLED       DATE  HOUR  \n",
              "0       425              1521        0          0 2015-03-02    13  \n",
              "\n",
              "[1 rows x 25 columns]"
            ],
            "text/html": [
              "\n",
              "  <div id=\"df-8ff70c0c-7cf9-41b2-ab6d-a84d75ce16c0\">\n",
              "    <div class=\"colab-df-container\">\n",
              "      <div>\n",
              "<style scoped>\n",
              "    .dataframe tbody tr th:only-of-type {\n",
              "        vertical-align: middle;\n",
              "    }\n",
              "\n",
              "    .dataframe tbody tr th {\n",
              "        vertical-align: top;\n",
              "    }\n",
              "\n",
              "    .dataframe thead th {\n",
              "        text-align: right;\n",
              "    }\n",
              "</style>\n",
              "<table border=\"1\" class=\"dataframe\">\n",
              "  <thead>\n",
              "    <tr style=\"text-align: right;\">\n",
              "      <th></th>\n",
              "      <th>IATA_CODE_x</th>\n",
              "      <th>AIRPORT</th>\n",
              "      <th>CITY</th>\n",
              "      <th>STATE</th>\n",
              "      <th>COUNTRY</th>\n",
              "      <th>LATITUDE</th>\n",
              "      <th>LONGITUDE</th>\n",
              "      <th>IATA_CODE_y</th>\n",
              "      <th>AIRLINE_x</th>\n",
              "      <th>YEAR</th>\n",
              "      <th>...</th>\n",
              "      <th>ORIGIN_AIRPORT</th>\n",
              "      <th>DESTINATION_AIRPORT</th>\n",
              "      <th>SCHEDULED_DEPARTURE</th>\n",
              "      <th>SCHEDULED_TIME</th>\n",
              "      <th>DISTANCE</th>\n",
              "      <th>SCHEDULED_ARRIVAL</th>\n",
              "      <th>DIVERTED</th>\n",
              "      <th>CANCELLED</th>\n",
              "      <th>DATE</th>\n",
              "      <th>HOUR</th>\n",
              "    </tr>\n",
              "  </thead>\n",
              "  <tbody>\n",
              "    <tr>\n",
              "      <th>0</th>\n",
              "      <td>ABE</td>\n",
              "      <td>Lehigh Valley International Airport</td>\n",
              "      <td>Allentown</td>\n",
              "      <td>PA</td>\n",
              "      <td>USA</td>\n",
              "      <td>40.65236</td>\n",
              "      <td>-75.4404</td>\n",
              "      <td>OO</td>\n",
              "      <td>Skywest Airlines Inc.</td>\n",
              "      <td>2015</td>\n",
              "      <td>...</td>\n",
              "      <td>DTW</td>\n",
              "      <td>ABE</td>\n",
              "      <td>1355</td>\n",
              "      <td>86.0</td>\n",
              "      <td>425</td>\n",
              "      <td>1521</td>\n",
              "      <td>0</td>\n",
              "      <td>0</td>\n",
              "      <td>2015-03-02</td>\n",
              "      <td>13</td>\n",
              "    </tr>\n",
              "  </tbody>\n",
              "</table>\n",
              "<p>1 rows × 25 columns</p>\n",
              "</div>\n",
              "      <button class=\"colab-df-convert\" onclick=\"convertToInteractive('df-8ff70c0c-7cf9-41b2-ab6d-a84d75ce16c0')\"\n",
              "              title=\"Convert this dataframe to an interactive table.\"\n",
              "              style=\"display:none;\">\n",
              "        \n",
              "  <svg xmlns=\"http://www.w3.org/2000/svg\" height=\"24px\"viewBox=\"0 0 24 24\"\n",
              "       width=\"24px\">\n",
              "    <path d=\"M0 0h24v24H0V0z\" fill=\"none\"/>\n",
              "    <path d=\"M18.56 5.44l.94 2.06.94-2.06 2.06-.94-2.06-.94-.94-2.06-.94 2.06-2.06.94zm-11 1L8.5 8.5l.94-2.06 2.06-.94-2.06-.94L8.5 2.5l-.94 2.06-2.06.94zm10 10l.94 2.06.94-2.06 2.06-.94-2.06-.94-.94-2.06-.94 2.06-2.06.94z\"/><path d=\"M17.41 7.96l-1.37-1.37c-.4-.4-.92-.59-1.43-.59-.52 0-1.04.2-1.43.59L10.3 9.45l-7.72 7.72c-.78.78-.78 2.05 0 2.83L4 21.41c.39.39.9.59 1.41.59.51 0 1.02-.2 1.41-.59l7.78-7.78 2.81-2.81c.8-.78.8-2.07 0-2.86zM5.41 20L4 18.59l7.72-7.72 1.47 1.35L5.41 20z\"/>\n",
              "  </svg>\n",
              "      </button>\n",
              "      \n",
              "  <style>\n",
              "    .colab-df-container {\n",
              "      display:flex;\n",
              "      flex-wrap:wrap;\n",
              "      gap: 12px;\n",
              "    }\n",
              "\n",
              "    .colab-df-convert {\n",
              "      background-color: #E8F0FE;\n",
              "      border: none;\n",
              "      border-radius: 50%;\n",
              "      cursor: pointer;\n",
              "      display: none;\n",
              "      fill: #1967D2;\n",
              "      height: 32px;\n",
              "      padding: 0 0 0 0;\n",
              "      width: 32px;\n",
              "    }\n",
              "\n",
              "    .colab-df-convert:hover {\n",
              "      background-color: #E2EBFA;\n",
              "      box-shadow: 0px 1px 2px rgba(60, 64, 67, 0.3), 0px 1px 3px 1px rgba(60, 64, 67, 0.15);\n",
              "      fill: #174EA6;\n",
              "    }\n",
              "\n",
              "    [theme=dark] .colab-df-convert {\n",
              "      background-color: #3B4455;\n",
              "      fill: #D2E3FC;\n",
              "    }\n",
              "\n",
              "    [theme=dark] .colab-df-convert:hover {\n",
              "      background-color: #434B5C;\n",
              "      box-shadow: 0px 1px 3px 1px rgba(0, 0, 0, 0.15);\n",
              "      filter: drop-shadow(0px 1px 2px rgba(0, 0, 0, 0.3));\n",
              "      fill: #FFFFFF;\n",
              "    }\n",
              "  </style>\n",
              "\n",
              "      <script>\n",
              "        const buttonEl =\n",
              "          document.querySelector('#df-8ff70c0c-7cf9-41b2-ab6d-a84d75ce16c0 button.colab-df-convert');\n",
              "        buttonEl.style.display =\n",
              "          google.colab.kernel.accessAllowed ? 'block' : 'none';\n",
              "\n",
              "        async function convertToInteractive(key) {\n",
              "          const element = document.querySelector('#df-8ff70c0c-7cf9-41b2-ab6d-a84d75ce16c0');\n",
              "          const dataTable =\n",
              "            await google.colab.kernel.invokeFunction('convertToInteractive',\n",
              "                                                     [key], {});\n",
              "          if (!dataTable) return;\n",
              "\n",
              "          const docLinkHtml = 'Like what you see? Visit the ' +\n",
              "            '<a target=\"_blank\" href=https://colab.research.google.com/notebooks/data_table.ipynb>data table notebook</a>'\n",
              "            + ' to learn more about interactive tables.';\n",
              "          element.innerHTML = '';\n",
              "          dataTable['output_type'] = 'display_data';\n",
              "          await google.colab.output.renderOutput(dataTable, element);\n",
              "          const docLink = document.createElement('div');\n",
              "          docLink.innerHTML = docLinkHtml;\n",
              "          element.appendChild(docLink);\n",
              "        }\n",
              "      </script>\n",
              "    </div>\n",
              "  </div>\n",
              "  "
            ]
          },
          "metadata": {},
          "execution_count": 46
        }
      ]
    },
    {
      "cell_type": "code",
      "source": [
        "#here i created a new feature (hour) that will help me calculate the number of flights per hour\n",
        "#as demonstrated in the visualization below\n",
        "#this new feature was created to answer the question of ( What are the hours of the days that have the most flights)\n",
        "\n",
        "df_main_demo2['HOUR']=(df_main_demo2.SCHEDULED_DEPARTURE/100).astype(int)\n"
      ],
      "metadata": {
        "id": "JPmaeNXbbORI"
      },
      "execution_count": 45,
      "outputs": []
    },
    {
      "cell_type": "code",
      "source": [
        "#The bar plot, clearly shows how, regardless of the month, \n",
        "#the number of flights drops down at night \n",
        "#and it reaches is maximim values between 6 and 7 AM, \n",
        "#with other two small peaks between 15 and 16, and 17 and 18.\n",
        "\n",
        "pddf=pd.DataFrame({'count' : df_flights.groupby(((df_flights.SCHEDULED_DEPARTURE/100).astype(int))).size()}).reset_index()\n",
        "\n",
        "# plot the number of flights per hour\n",
        "f, ax = plt.subplots(figsize=(18, 6))\n",
        "sns.barplot(x=\"SCHEDULED_DEPARTURE\",\n",
        "            y=\"count\",\n",
        "            data=pddf,\n",
        "            palette=sns.color_palette(\"GnBu_d\", 24),\n",
        "            ax=ax)\n",
        "\n",
        "# set plot's labels\n",
        "ax.set(xlabel='Hour of the day', ylabel='Number of flights')\n",
        "ax.set_title(\"Number of flights per hour during the year\", fontweight=\"bold\", size=15)\n",
        "\n",
        "plt.plot()"
      ],
      "metadata": {
        "colab": {
          "base_uri": "https://localhost:8080/",
          "height": 303
        },
        "id": "XthPk0VTa4Ny",
        "outputId": "ba3756a6-a89c-47f2-f18f-82a4bd4e04be"
      },
      "execution_count": 47,
      "outputs": [
        {
          "output_type": "execute_result",
          "data": {
            "text/plain": [
              "[]"
            ]
          },
          "metadata": {},
          "execution_count": 47
        },
        {
          "output_type": "display_data",
          "data": {
            "text/plain": [
              "<Figure size 1296x432 with 1 Axes>"
            ],
            "image/png": "[encoded data removed]"
          },
          "metadata": {
            "needs_background": "light"
          }
        }
      ]
    },
    {
      "cell_type": "markdown",
      "source": [
        "**Visualizations**"
      ],
      "metadata": {
        "id": "sJnB1ZjneDAr"
      }
    },
    {
      "cell_type": "code",
      "source": [
        "#correlation matrix to show the correlation between featurs\n",
        "corr_matrix = main_df.corr()\n",
        "plt.figure(figsize=(15,8))\n",
        "sns.heatmap(corr_matrix, annot=True, cbar=False , cmap = 'coolwarm' )\n",
        "plt.title(\"Correlation Matrix\")\n",
        "plt.show()"
      ],
      "metadata": {
        "colab": {
          "base_uri": "https://localhost:8080/",
          "height": 467
        },
        "id": "xlKiCdT5M1wt",
        "outputId": "79ef32e8-e677-4d8d-d31b-3516cafd3345"
      },
      "execution_count": 48,
      "outputs": [
        {
          "output_type": "display_data",
          "data": {
            "text/plain": [
              "<Figure size 1080x576 with 1 Axes>"
            ],
            "image/png": "[encoded data removed]"
          },
          "metadata": {
            "needs_background": "light"
          }
        }
      ]
    },
    {
      "cell_type": "code",
      "source": [
        "#this visualization shows us the number of flights during the days of the week through out the year\n",
        "days=['monday','tuesday','wednesday','thursday','friday','saturday','sunday']\n",
        "n_flight_week=list(df_flights.groupby('DAY_OF_WEEK').count().YEAR)\n",
        "frequencies=[n_flight_week[i] for i in range(len(n_flight_week)) ]\n",
        "plt.bar(range(0,7),frequencies)\n",
        "plt.xlabel('Day of week ')\n",
        "plt.ylabel('number of flights')\n",
        "plt.xticks(range(0,7),days,rotation='vertical')\n",
        "plt.show()"
      ],
      "metadata": {
        "colab": {
          "base_uri": "https://localhost:8080/",
          "height": 326
        },
        "id": "TlA-aOBNImfq",
        "outputId": "ee19446f-ff79-47b8-bcef-9c73e97158ae"
      },
      "execution_count": 43,
      "outputs": [
        {
          "output_type": "display_data",
          "data": {
            "text/plain": [
              "<Figure size 432x288 with 1 Axes>"
            ],
            "image/png": "[encoded data removed]"
          },
          "metadata": {
            "needs_background": "light"
          }
        }
      ]
    },
    {
      "cell_type": "code",
      "source": [
        "#Here iam exploring how the number of flights changer during the months of the year\n",
        "\n",
        "datedf = df_main_demo2.loc[(df_main_demo2['DATE'] > '2015-12-20') & (df_main_demo2['DATE'] < '2015-12-20')]\n",
        "\n",
        "plt.style.use('seaborn')\n",
        "labels = datedf['DATE']\n",
        "main_df.groupby('MONTH').count()['FLIGHT_NUMBER'].plot()\n",
        "plt.xlabel(\"MONTHS\")\n",
        "plt.xticks(labels=labels, ticks=np.arange(1,13,1))\n",
        "plt.ylabel(\"Flight Count\")\n",
        "plt.title('Flight Count')\n",
        "plt.show()"
      ],
      "metadata": {
        "colab": {
          "base_uri": "https://localhost:8080/",
          "height": 366
        },
        "id": "tS0lZ2_cL8dY",
        "outputId": "9d118abb-5cd9-4310-ab28-32d81384d07a"
      },
      "execution_count": 49,
      "outputs": [
        {
          "output_type": "display_data",
          "data": {
            "text/plain": [
              "<Figure size 576x396 with 1 Axes>"
            ],
            "image/png": "[encoded data removed]"
          },
          "metadata": {}
        }
      ]
    },
    {
      "cell_type": "code",
      "source": [],
      "metadata": {
        "id": "jT3FtMzt6oJC"
      },
      "execution_count": null,
      "outputs": []
    }
  ]
}